{
  "nbformat": 4,
  "nbformat_minor": 0,
  "metadata": {
    "colab": {
      "name": "games.ipynb",
      "provenance": [],
      "collapsed_sections": []
    },
    "kernelspec": {
      "name": "python3",
      "display_name": "Python 3"
    },
    "language_info": {
      "name": "python"
    }
  },
  "cells": [
    {
      "cell_type": "code",
      "execution_count": 248,
      "metadata": {
        "id": "k25OuYmteg3G",
        "colab": {
          "base_uri": "https://localhost:8080/"
        },
        "outputId": "088ce4bc-e190-43ae-af4a-fa3ae77bcb47"
      },
      "outputs": [
        {
          "output_type": "stream",
          "name": "stderr",
          "text": [
            "/usr/local/lib/python3.7/dist-packages/IPython/core/interactiveshell.py:2882: DtypeWarning: Columns (6) have mixed types.Specify dtype option on import or set low_memory=False.\n",
            "  exec(code_obj, self.user_global_ns, self.user_ns)\n"
          ]
        }
      ],
      "source": [
        "import pandas as pd\n",
        "import matplotlib.pyplot as plt\n",
        "import numpy as np\n",
        "# reading all the datasets\n",
        "\n",
        "df_teams = pd.read_csv('teams.csv')\n",
        "df_games = pd.read_csv('games.csv')\n",
        "df_players = pd.read_csv('players.csv')\n",
        "df_games_details = pd.read_csv('games_details.csv')\n",
        "df_ranking = pd.read_csv('ranking.csv')"
      ]
    },
    {
      "cell_type": "code",
      "source": [
        "# how many columns and lines\n",
        "\n",
        "print(f'There are {df_teams.shape[1]} columns and {df_teams.shape[0]} lines at the teams dataset.\\n')\n",
        "print(f'There are {df_players.shape[1]} columns and {df_players.shape[0]} lines at the players dataset.\\n')\n",
        "print(f'There are {df_games_details.shape[1]} columns and {df_games_details.shape[0]} lines at the games details dataset.\\n')\n",
        "print(f'There are {df_ranking.shape[1]} columns and {df_ranking.shape[0]} lines at the ranking dataset.')"
      ],
      "metadata": {
        "colab": {
          "base_uri": "https://localhost:8080/"
        },
        "id": "nj9NBGH2jdoG",
        "outputId": "9b5b2a89-fd27-4512-c0de-f7ab2708758d"
      },
      "execution_count": 249,
      "outputs": [
        {
          "output_type": "stream",
          "name": "stdout",
          "text": [
            "There are 14 columns and 30 lines at the teams dataset.\n",
            "\n",
            "There are 4 columns and 7228 lines at the players dataset.\n",
            "\n",
            "There are 29 columns and 645953 lines at the games details dataset.\n",
            "\n",
            "There are 13 columns and 201792 lines at the ranking dataset.\n"
          ]
        }
      ]
    },
    {
      "cell_type": "markdown",
      "source": [
        "**TEAMS dataset info**"
      ],
      "metadata": {
        "id": "D66ed7cON4wh"
      }
    },
    {
      "cell_type": "code",
      "source": [
        "# teams dataset\n",
        "df_teams.dtypes"
      ],
      "metadata": {
        "colab": {
          "base_uri": "https://localhost:8080/"
        },
        "id": "ZGjIdNm0i26e",
        "outputId": "17d9a1ab-bf50-4aeb-dc3b-690b081543f1"
      },
      "execution_count": 250,
      "outputs": [
        {
          "output_type": "execute_result",
          "data": {
            "text/plain": [
              "LEAGUE_ID               int64\n",
              "TEAM_ID                 int64\n",
              "MIN_YEAR                int64\n",
              "MAX_YEAR                int64\n",
              "ABBREVIATION           object\n",
              "NICKNAME               object\n",
              "YEARFOUNDED             int64\n",
              "CITY                   object\n",
              "ARENA                  object\n",
              "ARENACAPACITY         float64\n",
              "OWNER                  object\n",
              "GENERALMANAGER         object\n",
              "HEADCOACH              object\n",
              "DLEAGUEAFFILIATION     object\n",
              "dtype: object"
            ]
          },
          "metadata": {},
          "execution_count": 250
        }
      ]
    },
    {
      "cell_type": "markdown",
      "source": [
        "**PLAYERS dataset info**"
      ],
      "metadata": {
        "id": "p59oLCWHOEGR"
      }
    },
    {
      "cell_type": "code",
      "source": [
        "# players dataset\n",
        "df_players.dtypes"
      ],
      "metadata": {
        "colab": {
          "base_uri": "https://localhost:8080/"
        },
        "id": "xR_D5rf_i5jF",
        "outputId": "531f0f7e-b67d-44d3-f197-5d6a49c4ca9b"
      },
      "execution_count": 251,
      "outputs": [
        {
          "output_type": "execute_result",
          "data": {
            "text/plain": [
              "PLAYER_NAME    object\n",
              "TEAM_ID         int64\n",
              "PLAYER_ID       int64\n",
              "SEASON          int64\n",
              "dtype: object"
            ]
          },
          "metadata": {},
          "execution_count": 251
        }
      ]
    },
    {
      "cell_type": "markdown",
      "source": [
        "**GAMES_DETAILS dataset info**"
      ],
      "metadata": {
        "id": "LLlrO8n4OTKh"
      }
    },
    {
      "cell_type": "code",
      "source": [
        "# games details dataset\n",
        "df_games_details.dtypes"
      ],
      "metadata": {
        "colab": {
          "base_uri": "https://localhost:8080/"
        },
        "id": "5i03YElJjIxe",
        "outputId": "e966b074-9ff3-43d0-b909-920f87385517"
      },
      "execution_count": 252,
      "outputs": [
        {
          "output_type": "execute_result",
          "data": {
            "text/plain": [
              "GAME_ID                int64\n",
              "TEAM_ID                int64\n",
              "TEAM_ABBREVIATION     object\n",
              "TEAM_CITY             object\n",
              "PLAYER_ID              int64\n",
              "PLAYER_NAME           object\n",
              "NICKNAME              object\n",
              "START_POSITION        object\n",
              "COMMENT               object\n",
              "MIN                   object\n",
              "FGM                  float64\n",
              "FGA                  float64\n",
              "FG_PCT               float64\n",
              "FG3M                 float64\n",
              "FG3A                 float64\n",
              "FG3_PCT              float64\n",
              "FTM                  float64\n",
              "FTA                  float64\n",
              "FT_PCT               float64\n",
              "OREB                 float64\n",
              "DREB                 float64\n",
              "REB                  float64\n",
              "AST                  float64\n",
              "STL                  float64\n",
              "BLK                  float64\n",
              "TO                   float64\n",
              "PF                   float64\n",
              "PTS                  float64\n",
              "PLUS_MINUS           float64\n",
              "dtype: object"
            ]
          },
          "metadata": {},
          "execution_count": 252
        }
      ]
    },
    {
      "cell_type": "markdown",
      "source": [
        "**RANKING dataset info**"
      ],
      "metadata": {
        "id": "K5mF_iplOeqZ"
      }
    },
    {
      "cell_type": "code",
      "source": [
        "#ranking dataset\n",
        "df_ranking.dtypes"
      ],
      "metadata": {
        "colab": {
          "base_uri": "https://localhost:8080/"
        },
        "id": "gyMRQqXEjSwP",
        "outputId": "e611dea8-8a8e-4ffb-f817-5e126de98887"
      },
      "execution_count": 253,
      "outputs": [
        {
          "output_type": "execute_result",
          "data": {
            "text/plain": [
              "TEAM_ID            int64\n",
              "LEAGUE_ID          int64\n",
              "SEASON_ID          int64\n",
              "STANDINGSDATE     object\n",
              "CONFERENCE        object\n",
              "TEAM              object\n",
              "G                  int64\n",
              "W                  int64\n",
              "L                  int64\n",
              "W_PCT            float64\n",
              "HOME_RECORD       object\n",
              "ROAD_RECORD       object\n",
              "RETURNTOPLAY     float64\n",
              "dtype: object"
            ]
          },
          "metadata": {},
          "execution_count": 253
        }
      ]
    },
    {
      "cell_type": "markdown",
      "source": [
        "**GAMES Dataset**"
      ],
      "metadata": {
        "id": "dMJqrXz6Ol0Y"
      }
    },
    {
      "cell_type": "code",
      "source": [
        "# looking over games dataset overlook\n",
        "df_games.head()\n"
      ],
      "metadata": {
        "colab": {
          "base_uri": "https://localhost:8080/",
          "height": 300
        },
        "id": "BU3flO1ej2hm",
        "outputId": "48f77265-cab8-4234-b97d-501f03ba4820"
      },
      "execution_count": 254,
      "outputs": [
        {
          "output_type": "execute_result",
          "data": {
            "text/plain": [
              "  GAME_DATE_EST   GAME_ID GAME_STATUS_TEXT  HOME_TEAM_ID  VISITOR_TEAM_ID  \\\n",
              "0    2022-03-12  22101005            Final    1610612748       1610612750   \n",
              "1    2022-03-12  22101006            Final    1610612741       1610612739   \n",
              "2    2022-03-12  22101007            Final    1610612759       1610612754   \n",
              "3    2022-03-12  22101008            Final    1610612744       1610612749   \n",
              "4    2022-03-12  22101009            Final    1610612743       1610612761   \n",
              "\n",
              "   SEASON  TEAM_ID_home  PTS_home  FG_PCT_home  FT_PCT_home  ...  AST_home  \\\n",
              "0    2021    1610612748     104.0        0.398        0.760  ...      23.0   \n",
              "1    2021    1610612741     101.0        0.443        0.933  ...      20.0   \n",
              "2    2021    1610612759     108.0        0.412        0.813  ...      28.0   \n",
              "3    2021    1610612744     122.0        0.484        0.933  ...      33.0   \n",
              "4    2021    1610612743     115.0        0.551        0.750  ...      32.0   \n",
              "\n",
              "   REB_home  TEAM_ID_away  PTS_away  FG_PCT_away  FT_PCT_away  FG3_PCT_away  \\\n",
              "0      53.0    1610612750     113.0        0.422        0.875         0.357   \n",
              "1      46.0    1610612739      91.0        0.419        0.824         0.208   \n",
              "2      52.0    1610612754     119.0        0.489        1.000         0.389   \n",
              "3      55.0    1610612749     109.0        0.413        0.696         0.386   \n",
              "4      39.0    1610612761     127.0        0.471        0.760         0.387   \n",
              "\n",
              "   AST_away  REB_away  HOME_TEAM_WINS  \n",
              "0      21.0      46.0               0  \n",
              "1      19.0      40.0               1  \n",
              "2      23.0      47.0               0  \n",
              "3      27.0      39.0               1  \n",
              "4      28.0      50.0               0  \n",
              "\n",
              "[5 rows x 21 columns]"
            ],
            "text/html": [
              "\n",
              "  <div id=\"df-a23f2175-498e-4bc4-ad16-77599fc001a9\">\n",
              "    <div class=\"colab-df-container\">\n",
              "      <div>\n",
              "<style scoped>\n",
              "    .dataframe tbody tr th:only-of-type {\n",
              "        vertical-align: middle;\n",
              "    }\n",
              "\n",
              "    .dataframe tbody tr th {\n",
              "        vertical-align: top;\n",
              "    }\n",
              "\n",
              "    .dataframe thead th {\n",
              "        text-align: right;\n",
              "    }\n",
              "</style>\n",
              "<table border=\"1\" class=\"dataframe\">\n",
              "  <thead>\n",
              "    <tr style=\"text-align: right;\">\n",
              "      <th></th>\n",
              "      <th>GAME_DATE_EST</th>\n",
              "      <th>GAME_ID</th>\n",
              "      <th>GAME_STATUS_TEXT</th>\n",
              "      <th>HOME_TEAM_ID</th>\n",
              "      <th>VISITOR_TEAM_ID</th>\n",
              "      <th>SEASON</th>\n",
              "      <th>TEAM_ID_home</th>\n",
              "      <th>PTS_home</th>\n",
              "      <th>FG_PCT_home</th>\n",
              "      <th>FT_PCT_home</th>\n",
              "      <th>...</th>\n",
              "      <th>AST_home</th>\n",
              "      <th>REB_home</th>\n",
              "      <th>TEAM_ID_away</th>\n",
              "      <th>PTS_away</th>\n",
              "      <th>FG_PCT_away</th>\n",
              "      <th>FT_PCT_away</th>\n",
              "      <th>FG3_PCT_away</th>\n",
              "      <th>AST_away</th>\n",
              "      <th>REB_away</th>\n",
              "      <th>HOME_TEAM_WINS</th>\n",
              "    </tr>\n",
              "  </thead>\n",
              "  <tbody>\n",
              "    <tr>\n",
              "      <th>0</th>\n",
              "      <td>2022-03-12</td>\n",
              "      <td>22101005</td>\n",
              "      <td>Final</td>\n",
              "      <td>1610612748</td>\n",
              "      <td>1610612750</td>\n",
              "      <td>2021</td>\n",
              "      <td>1610612748</td>\n",
              "      <td>104.0</td>\n",
              "      <td>0.398</td>\n",
              "      <td>0.760</td>\n",
              "      <td>...</td>\n",
              "      <td>23.0</td>\n",
              "      <td>53.0</td>\n",
              "      <td>1610612750</td>\n",
              "      <td>113.0</td>\n",
              "      <td>0.422</td>\n",
              "      <td>0.875</td>\n",
              "      <td>0.357</td>\n",
              "      <td>21.0</td>\n",
              "      <td>46.0</td>\n",
              "      <td>0</td>\n",
              "    </tr>\n",
              "    <tr>\n",
              "      <th>1</th>\n",
              "      <td>2022-03-12</td>\n",
              "      <td>22101006</td>\n",
              "      <td>Final</td>\n",
              "      <td>1610612741</td>\n",
              "      <td>1610612739</td>\n",
              "      <td>2021</td>\n",
              "      <td>1610612741</td>\n",
              "      <td>101.0</td>\n",
              "      <td>0.443</td>\n",
              "      <td>0.933</td>\n",
              "      <td>...</td>\n",
              "      <td>20.0</td>\n",
              "      <td>46.0</td>\n",
              "      <td>1610612739</td>\n",
              "      <td>91.0</td>\n",
              "      <td>0.419</td>\n",
              "      <td>0.824</td>\n",
              "      <td>0.208</td>\n",
              "      <td>19.0</td>\n",
              "      <td>40.0</td>\n",
              "      <td>1</td>\n",
              "    </tr>\n",
              "    <tr>\n",
              "      <th>2</th>\n",
              "      <td>2022-03-12</td>\n",
              "      <td>22101007</td>\n",
              "      <td>Final</td>\n",
              "      <td>1610612759</td>\n",
              "      <td>1610612754</td>\n",
              "      <td>2021</td>\n",
              "      <td>1610612759</td>\n",
              "      <td>108.0</td>\n",
              "      <td>0.412</td>\n",
              "      <td>0.813</td>\n",
              "      <td>...</td>\n",
              "      <td>28.0</td>\n",
              "      <td>52.0</td>\n",
              "      <td>1610612754</td>\n",
              "      <td>119.0</td>\n",
              "      <td>0.489</td>\n",
              "      <td>1.000</td>\n",
              "      <td>0.389</td>\n",
              "      <td>23.0</td>\n",
              "      <td>47.0</td>\n",
              "      <td>0</td>\n",
              "    </tr>\n",
              "    <tr>\n",
              "      <th>3</th>\n",
              "      <td>2022-03-12</td>\n",
              "      <td>22101008</td>\n",
              "      <td>Final</td>\n",
              "      <td>1610612744</td>\n",
              "      <td>1610612749</td>\n",
              "      <td>2021</td>\n",
              "      <td>1610612744</td>\n",
              "      <td>122.0</td>\n",
              "      <td>0.484</td>\n",
              "      <td>0.933</td>\n",
              "      <td>...</td>\n",
              "      <td>33.0</td>\n",
              "      <td>55.0</td>\n",
              "      <td>1610612749</td>\n",
              "      <td>109.0</td>\n",
              "      <td>0.413</td>\n",
              "      <td>0.696</td>\n",
              "      <td>0.386</td>\n",
              "      <td>27.0</td>\n",
              "      <td>39.0</td>\n",
              "      <td>1</td>\n",
              "    </tr>\n",
              "    <tr>\n",
              "      <th>4</th>\n",
              "      <td>2022-03-12</td>\n",
              "      <td>22101009</td>\n",
              "      <td>Final</td>\n",
              "      <td>1610612743</td>\n",
              "      <td>1610612761</td>\n",
              "      <td>2021</td>\n",
              "      <td>1610612743</td>\n",
              "      <td>115.0</td>\n",
              "      <td>0.551</td>\n",
              "      <td>0.750</td>\n",
              "      <td>...</td>\n",
              "      <td>32.0</td>\n",
              "      <td>39.0</td>\n",
              "      <td>1610612761</td>\n",
              "      <td>127.0</td>\n",
              "      <td>0.471</td>\n",
              "      <td>0.760</td>\n",
              "      <td>0.387</td>\n",
              "      <td>28.0</td>\n",
              "      <td>50.0</td>\n",
              "      <td>0</td>\n",
              "    </tr>\n",
              "  </tbody>\n",
              "</table>\n",
              "<p>5 rows × 21 columns</p>\n",
              "</div>\n",
              "      <button class=\"colab-df-convert\" onclick=\"convertToInteractive('df-a23f2175-498e-4bc4-ad16-77599fc001a9')\"\n",
              "              title=\"Convert this dataframe to an interactive table.\"\n",
              "              style=\"display:none;\">\n",
              "        \n",
              "  <svg xmlns=\"http://www.w3.org/2000/svg\" height=\"24px\"viewBox=\"0 0 24 24\"\n",
              "       width=\"24px\">\n",
              "    <path d=\"M0 0h24v24H0V0z\" fill=\"none\"/>\n",
              "    <path d=\"M18.56 5.44l.94 2.06.94-2.06 2.06-.94-2.06-.94-.94-2.06-.94 2.06-2.06.94zm-11 1L8.5 8.5l.94-2.06 2.06-.94-2.06-.94L8.5 2.5l-.94 2.06-2.06.94zm10 10l.94 2.06.94-2.06 2.06-.94-2.06-.94-.94-2.06-.94 2.06-2.06.94z\"/><path d=\"M17.41 7.96l-1.37-1.37c-.4-.4-.92-.59-1.43-.59-.52 0-1.04.2-1.43.59L10.3 9.45l-7.72 7.72c-.78.78-.78 2.05 0 2.83L4 21.41c.39.39.9.59 1.41.59.51 0 1.02-.2 1.41-.59l7.78-7.78 2.81-2.81c.8-.78.8-2.07 0-2.86zM5.41 20L4 18.59l7.72-7.72 1.47 1.35L5.41 20z\"/>\n",
              "  </svg>\n",
              "      </button>\n",
              "      \n",
              "  <style>\n",
              "    .colab-df-container {\n",
              "      display:flex;\n",
              "      flex-wrap:wrap;\n",
              "      gap: 12px;\n",
              "    }\n",
              "\n",
              "    .colab-df-convert {\n",
              "      background-color: #E8F0FE;\n",
              "      border: none;\n",
              "      border-radius: 50%;\n",
              "      cursor: pointer;\n",
              "      display: none;\n",
              "      fill: #1967D2;\n",
              "      height: 32px;\n",
              "      padding: 0 0 0 0;\n",
              "      width: 32px;\n",
              "    }\n",
              "\n",
              "    .colab-df-convert:hover {\n",
              "      background-color: #E2EBFA;\n",
              "      box-shadow: 0px 1px 2px rgba(60, 64, 67, 0.3), 0px 1px 3px 1px rgba(60, 64, 67, 0.15);\n",
              "      fill: #174EA6;\n",
              "    }\n",
              "\n",
              "    [theme=dark] .colab-df-convert {\n",
              "      background-color: #3B4455;\n",
              "      fill: #D2E3FC;\n",
              "    }\n",
              "\n",
              "    [theme=dark] .colab-df-convert:hover {\n",
              "      background-color: #434B5C;\n",
              "      box-shadow: 0px 1px 3px 1px rgba(0, 0, 0, 0.15);\n",
              "      filter: drop-shadow(0px 1px 2px rgba(0, 0, 0, 0.3));\n",
              "      fill: #FFFFFF;\n",
              "    }\n",
              "  </style>\n",
              "\n",
              "      <script>\n",
              "        const buttonEl =\n",
              "          document.querySelector('#df-a23f2175-498e-4bc4-ad16-77599fc001a9 button.colab-df-convert');\n",
              "        buttonEl.style.display =\n",
              "          google.colab.kernel.accessAllowed ? 'block' : 'none';\n",
              "\n",
              "        async function convertToInteractive(key) {\n",
              "          const element = document.querySelector('#df-a23f2175-498e-4bc4-ad16-77599fc001a9');\n",
              "          const dataTable =\n",
              "            await google.colab.kernel.invokeFunction('convertToInteractive',\n",
              "                                                     [key], {});\n",
              "          if (!dataTable) return;\n",
              "\n",
              "          const docLinkHtml = 'Like what you see? Visit the ' +\n",
              "            '<a target=\"_blank\" href=https://colab.research.google.com/notebooks/data_table.ipynb>data table notebook</a>'\n",
              "            + ' to learn more about interactive tables.';\n",
              "          element.innerHTML = '';\n",
              "          dataTable['output_type'] = 'display_data';\n",
              "          await google.colab.output.renderOutput(dataTable, element);\n",
              "          const docLink = document.createElement('div');\n",
              "          docLink.innerHTML = docLinkHtml;\n",
              "          element.appendChild(docLink);\n",
              "        }\n",
              "      </script>\n",
              "    </div>\n",
              "  </div>\n",
              "  "
            ]
          },
          "metadata": {},
          "execution_count": 254
        }
      ]
    },
    {
      "cell_type": "code",
      "source": [
        "# how many columns and lines\n",
        "\n",
        "print(f'There are {df_games.shape[1]} columns and {df_games.shape[0]} lines. ')"
      ],
      "metadata": {
        "colab": {
          "base_uri": "https://localhost:8080/"
        },
        "id": "nIvn4EEle2PO",
        "outputId": "bb58d763-2635-4221-88c4-38900f2e65b9"
      },
      "execution_count": 255,
      "outputs": [
        {
          "output_type": "stream",
          "name": "stdout",
          "text": [
            "There are 21 columns and 25796 lines. \n"
          ]
        }
      ]
    },
    {
      "cell_type": "code",
      "source": [
        "# show coulumns in dataset \n",
        "\n",
        "print(df_games.columns.tolist())"
      ],
      "metadata": {
        "colab": {
          "base_uri": "https://localhost:8080/"
        },
        "id": "3zV4-j8pe5fc",
        "outputId": "cb6a4d55-9e79-498c-e2a3-7c45eabb00eb"
      },
      "execution_count": 256,
      "outputs": [
        {
          "output_type": "stream",
          "name": "stdout",
          "text": [
            "['GAME_DATE_EST', 'GAME_ID', 'GAME_STATUS_TEXT', 'HOME_TEAM_ID', 'VISITOR_TEAM_ID', 'SEASON', 'TEAM_ID_home', 'PTS_home', 'FG_PCT_home', 'FT_PCT_home', 'FG3_PCT_home', 'AST_home', 'REB_home', 'TEAM_ID_away', 'PTS_away', 'FG_PCT_away', 'FT_PCT_away', 'FG3_PCT_away', 'AST_away', 'REB_away', 'HOME_TEAM_WINS']\n"
          ]
        }
      ]
    },
    {
      "cell_type": "code",
      "source": [
        "# show which data type it has\n",
        "\n",
        "df_games.dtypes"
      ],
      "metadata": {
        "colab": {
          "base_uri": "https://localhost:8080/"
        },
        "id": "p5gC7xk5e9Mb",
        "outputId": "a15ae801-b33f-45a7-f5f1-f059adbdab68"
      },
      "execution_count": 257,
      "outputs": [
        {
          "output_type": "execute_result",
          "data": {
            "text/plain": [
              "GAME_DATE_EST        object\n",
              "GAME_ID               int64\n",
              "GAME_STATUS_TEXT     object\n",
              "HOME_TEAM_ID          int64\n",
              "VISITOR_TEAM_ID       int64\n",
              "SEASON                int64\n",
              "TEAM_ID_home          int64\n",
              "PTS_home            float64\n",
              "FG_PCT_home         float64\n",
              "FT_PCT_home         float64\n",
              "FG3_PCT_home        float64\n",
              "AST_home            float64\n",
              "REB_home            float64\n",
              "TEAM_ID_away          int64\n",
              "PTS_away            float64\n",
              "FG_PCT_away         float64\n",
              "FT_PCT_away         float64\n",
              "FG3_PCT_away        float64\n",
              "AST_away            float64\n",
              "REB_away            float64\n",
              "HOME_TEAM_WINS        int64\n",
              "dtype: object"
            ]
          },
          "metadata": {},
          "execution_count": 257
        }
      ]
    },
    {
      "cell_type": "code",
      "source": [
        "# show null values\n",
        "\n",
        "df_games.isnull()"
      ],
      "metadata": {
        "colab": {
          "base_uri": "https://localhost:8080/",
          "height": 488
        },
        "id": "qx2c8yxxouBu",
        "outputId": "d76fe07f-8186-46ac-f4e8-b6189640f059"
      },
      "execution_count": 258,
      "outputs": [
        {
          "output_type": "execute_result",
          "data": {
            "text/plain": [
              "       GAME_DATE_EST  GAME_ID  GAME_STATUS_TEXT  HOME_TEAM_ID  \\\n",
              "0              False    False             False         False   \n",
              "1              False    False             False         False   \n",
              "2              False    False             False         False   \n",
              "3              False    False             False         False   \n",
              "4              False    False             False         False   \n",
              "...              ...      ...               ...           ...   \n",
              "25791          False    False             False         False   \n",
              "25792          False    False             False         False   \n",
              "25793          False    False             False         False   \n",
              "25794          False    False             False         False   \n",
              "25795          False    False             False         False   \n",
              "\n",
              "       VISITOR_TEAM_ID  SEASON  TEAM_ID_home  PTS_home  FG_PCT_home  \\\n",
              "0                False   False         False     False        False   \n",
              "1                False   False         False     False        False   \n",
              "2                False   False         False     False        False   \n",
              "3                False   False         False     False        False   \n",
              "4                False   False         False     False        False   \n",
              "...                ...     ...           ...       ...          ...   \n",
              "25791            False   False         False     False        False   \n",
              "25792            False   False         False     False        False   \n",
              "25793            False   False         False     False        False   \n",
              "25794            False   False         False     False        False   \n",
              "25795            False   False         False     False        False   \n",
              "\n",
              "       FT_PCT_home  ...  AST_home  REB_home  TEAM_ID_away  PTS_away  \\\n",
              "0            False  ...     False     False         False     False   \n",
              "1            False  ...     False     False         False     False   \n",
              "2            False  ...     False     False         False     False   \n",
              "3            False  ...     False     False         False     False   \n",
              "4            False  ...     False     False         False     False   \n",
              "...            ...  ...       ...       ...           ...       ...   \n",
              "25791        False  ...     False     False         False     False   \n",
              "25792        False  ...     False     False         False     False   \n",
              "25793        False  ...     False     False         False     False   \n",
              "25794        False  ...     False     False         False     False   \n",
              "25795        False  ...     False     False         False     False   \n",
              "\n",
              "       FG_PCT_away  FT_PCT_away  FG3_PCT_away  AST_away  REB_away  \\\n",
              "0            False        False         False     False     False   \n",
              "1            False        False         False     False     False   \n",
              "2            False        False         False     False     False   \n",
              "3            False        False         False     False     False   \n",
              "4            False        False         False     False     False   \n",
              "...            ...          ...           ...       ...       ...   \n",
              "25791        False        False         False     False     False   \n",
              "25792        False        False         False     False     False   \n",
              "25793        False        False         False     False     False   \n",
              "25794        False        False         False     False     False   \n",
              "25795        False        False         False     False     False   \n",
              "\n",
              "       HOME_TEAM_WINS  \n",
              "0               False  \n",
              "1               False  \n",
              "2               False  \n",
              "3               False  \n",
              "4               False  \n",
              "...               ...  \n",
              "25791           False  \n",
              "25792           False  \n",
              "25793           False  \n",
              "25794           False  \n",
              "25795           False  \n",
              "\n",
              "[25796 rows x 21 columns]"
            ],
            "text/html": [
              "\n",
              "  <div id=\"df-b9a1368e-be14-4093-9824-c9e76304a6a8\">\n",
              "    <div class=\"colab-df-container\">\n",
              "      <div>\n",
              "<style scoped>\n",
              "    .dataframe tbody tr th:only-of-type {\n",
              "        vertical-align: middle;\n",
              "    }\n",
              "\n",
              "    .dataframe tbody tr th {\n",
              "        vertical-align: top;\n",
              "    }\n",
              "\n",
              "    .dataframe thead th {\n",
              "        text-align: right;\n",
              "    }\n",
              "</style>\n",
              "<table border=\"1\" class=\"dataframe\">\n",
              "  <thead>\n",
              "    <tr style=\"text-align: right;\">\n",
              "      <th></th>\n",
              "      <th>GAME_DATE_EST</th>\n",
              "      <th>GAME_ID</th>\n",
              "      <th>GAME_STATUS_TEXT</th>\n",
              "      <th>HOME_TEAM_ID</th>\n",
              "      <th>VISITOR_TEAM_ID</th>\n",
              "      <th>SEASON</th>\n",
              "      <th>TEAM_ID_home</th>\n",
              "      <th>PTS_home</th>\n",
              "      <th>FG_PCT_home</th>\n",
              "      <th>FT_PCT_home</th>\n",
              "      <th>...</th>\n",
              "      <th>AST_home</th>\n",
              "      <th>REB_home</th>\n",
              "      <th>TEAM_ID_away</th>\n",
              "      <th>PTS_away</th>\n",
              "      <th>FG_PCT_away</th>\n",
              "      <th>FT_PCT_away</th>\n",
              "      <th>FG3_PCT_away</th>\n",
              "      <th>AST_away</th>\n",
              "      <th>REB_away</th>\n",
              "      <th>HOME_TEAM_WINS</th>\n",
              "    </tr>\n",
              "  </thead>\n",
              "  <tbody>\n",
              "    <tr>\n",
              "      <th>0</th>\n",
              "      <td>False</td>\n",
              "      <td>False</td>\n",
              "      <td>False</td>\n",
              "      <td>False</td>\n",
              "      <td>False</td>\n",
              "      <td>False</td>\n",
              "      <td>False</td>\n",
              "      <td>False</td>\n",
              "      <td>False</td>\n",
              "      <td>False</td>\n",
              "      <td>...</td>\n",
              "      <td>False</td>\n",
              "      <td>False</td>\n",
              "      <td>False</td>\n",
              "      <td>False</td>\n",
              "      <td>False</td>\n",
              "      <td>False</td>\n",
              "      <td>False</td>\n",
              "      <td>False</td>\n",
              "      <td>False</td>\n",
              "      <td>False</td>\n",
              "    </tr>\n",
              "    <tr>\n",
              "      <th>1</th>\n",
              "      <td>False</td>\n",
              "      <td>False</td>\n",
              "      <td>False</td>\n",
              "      <td>False</td>\n",
              "      <td>False</td>\n",
              "      <td>False</td>\n",
              "      <td>False</td>\n",
              "      <td>False</td>\n",
              "      <td>False</td>\n",
              "      <td>False</td>\n",
              "      <td>...</td>\n",
              "      <td>False</td>\n",
              "      <td>False</td>\n",
              "      <td>False</td>\n",
              "      <td>False</td>\n",
              "      <td>False</td>\n",
              "      <td>False</td>\n",
              "      <td>False</td>\n",
              "      <td>False</td>\n",
              "      <td>False</td>\n",
              "      <td>False</td>\n",
              "    </tr>\n",
              "    <tr>\n",
              "      <th>2</th>\n",
              "      <td>False</td>\n",
              "      <td>False</td>\n",
              "      <td>False</td>\n",
              "      <td>False</td>\n",
              "      <td>False</td>\n",
              "      <td>False</td>\n",
              "      <td>False</td>\n",
              "      <td>False</td>\n",
              "      <td>False</td>\n",
              "      <td>False</td>\n",
              "      <td>...</td>\n",
              "      <td>False</td>\n",
              "      <td>False</td>\n",
              "      <td>False</td>\n",
              "      <td>False</td>\n",
              "      <td>False</td>\n",
              "      <td>False</td>\n",
              "      <td>False</td>\n",
              "      <td>False</td>\n",
              "      <td>False</td>\n",
              "      <td>False</td>\n",
              "    </tr>\n",
              "    <tr>\n",
              "      <th>3</th>\n",
              "      <td>False</td>\n",
              "      <td>False</td>\n",
              "      <td>False</td>\n",
              "      <td>False</td>\n",
              "      <td>False</td>\n",
              "      <td>False</td>\n",
              "      <td>False</td>\n",
              "      <td>False</td>\n",
              "      <td>False</td>\n",
              "      <td>False</td>\n",
              "      <td>...</td>\n",
              "      <td>False</td>\n",
              "      <td>False</td>\n",
              "      <td>False</td>\n",
              "      <td>False</td>\n",
              "      <td>False</td>\n",
              "      <td>False</td>\n",
              "      <td>False</td>\n",
              "      <td>False</td>\n",
              "      <td>False</td>\n",
              "      <td>False</td>\n",
              "    </tr>\n",
              "    <tr>\n",
              "      <th>4</th>\n",
              "      <td>False</td>\n",
              "      <td>False</td>\n",
              "      <td>False</td>\n",
              "      <td>False</td>\n",
              "      <td>False</td>\n",
              "      <td>False</td>\n",
              "      <td>False</td>\n",
              "      <td>False</td>\n",
              "      <td>False</td>\n",
              "      <td>False</td>\n",
              "      <td>...</td>\n",
              "      <td>False</td>\n",
              "      <td>False</td>\n",
              "      <td>False</td>\n",
              "      <td>False</td>\n",
              "      <td>False</td>\n",
              "      <td>False</td>\n",
              "      <td>False</td>\n",
              "      <td>False</td>\n",
              "      <td>False</td>\n",
              "      <td>False</td>\n",
              "    </tr>\n",
              "    <tr>\n",
              "      <th>...</th>\n",
              "      <td>...</td>\n",
              "      <td>...</td>\n",
              "      <td>...</td>\n",
              "      <td>...</td>\n",
              "      <td>...</td>\n",
              "      <td>...</td>\n",
              "      <td>...</td>\n",
              "      <td>...</td>\n",
              "      <td>...</td>\n",
              "      <td>...</td>\n",
              "      <td>...</td>\n",
              "      <td>...</td>\n",
              "      <td>...</td>\n",
              "      <td>...</td>\n",
              "      <td>...</td>\n",
              "      <td>...</td>\n",
              "      <td>...</td>\n",
              "      <td>...</td>\n",
              "      <td>...</td>\n",
              "      <td>...</td>\n",
              "      <td>...</td>\n",
              "    </tr>\n",
              "    <tr>\n",
              "      <th>25791</th>\n",
              "      <td>False</td>\n",
              "      <td>False</td>\n",
              "      <td>False</td>\n",
              "      <td>False</td>\n",
              "      <td>False</td>\n",
              "      <td>False</td>\n",
              "      <td>False</td>\n",
              "      <td>False</td>\n",
              "      <td>False</td>\n",
              "      <td>False</td>\n",
              "      <td>...</td>\n",
              "      <td>False</td>\n",
              "      <td>False</td>\n",
              "      <td>False</td>\n",
              "      <td>False</td>\n",
              "      <td>False</td>\n",
              "      <td>False</td>\n",
              "      <td>False</td>\n",
              "      <td>False</td>\n",
              "      <td>False</td>\n",
              "      <td>False</td>\n",
              "    </tr>\n",
              "    <tr>\n",
              "      <th>25792</th>\n",
              "      <td>False</td>\n",
              "      <td>False</td>\n",
              "      <td>False</td>\n",
              "      <td>False</td>\n",
              "      <td>False</td>\n",
              "      <td>False</td>\n",
              "      <td>False</td>\n",
              "      <td>False</td>\n",
              "      <td>False</td>\n",
              "      <td>False</td>\n",
              "      <td>...</td>\n",
              "      <td>False</td>\n",
              "      <td>False</td>\n",
              "      <td>False</td>\n",
              "      <td>False</td>\n",
              "      <td>False</td>\n",
              "      <td>False</td>\n",
              "      <td>False</td>\n",
              "      <td>False</td>\n",
              "      <td>False</td>\n",
              "      <td>False</td>\n",
              "    </tr>\n",
              "    <tr>\n",
              "      <th>25793</th>\n",
              "      <td>False</td>\n",
              "      <td>False</td>\n",
              "      <td>False</td>\n",
              "      <td>False</td>\n",
              "      <td>False</td>\n",
              "      <td>False</td>\n",
              "      <td>False</td>\n",
              "      <td>False</td>\n",
              "      <td>False</td>\n",
              "      <td>False</td>\n",
              "      <td>...</td>\n",
              "      <td>False</td>\n",
              "      <td>False</td>\n",
              "      <td>False</td>\n",
              "      <td>False</td>\n",
              "      <td>False</td>\n",
              "      <td>False</td>\n",
              "      <td>False</td>\n",
              "      <td>False</td>\n",
              "      <td>False</td>\n",
              "      <td>False</td>\n",
              "    </tr>\n",
              "    <tr>\n",
              "      <th>25794</th>\n",
              "      <td>False</td>\n",
              "      <td>False</td>\n",
              "      <td>False</td>\n",
              "      <td>False</td>\n",
              "      <td>False</td>\n",
              "      <td>False</td>\n",
              "      <td>False</td>\n",
              "      <td>False</td>\n",
              "      <td>False</td>\n",
              "      <td>False</td>\n",
              "      <td>...</td>\n",
              "      <td>False</td>\n",
              "      <td>False</td>\n",
              "      <td>False</td>\n",
              "      <td>False</td>\n",
              "      <td>False</td>\n",
              "      <td>False</td>\n",
              "      <td>False</td>\n",
              "      <td>False</td>\n",
              "      <td>False</td>\n",
              "      <td>False</td>\n",
              "    </tr>\n",
              "    <tr>\n",
              "      <th>25795</th>\n",
              "      <td>False</td>\n",
              "      <td>False</td>\n",
              "      <td>False</td>\n",
              "      <td>False</td>\n",
              "      <td>False</td>\n",
              "      <td>False</td>\n",
              "      <td>False</td>\n",
              "      <td>False</td>\n",
              "      <td>False</td>\n",
              "      <td>False</td>\n",
              "      <td>...</td>\n",
              "      <td>False</td>\n",
              "      <td>False</td>\n",
              "      <td>False</td>\n",
              "      <td>False</td>\n",
              "      <td>False</td>\n",
              "      <td>False</td>\n",
              "      <td>False</td>\n",
              "      <td>False</td>\n",
              "      <td>False</td>\n",
              "      <td>False</td>\n",
              "    </tr>\n",
              "  </tbody>\n",
              "</table>\n",
              "<p>25796 rows × 21 columns</p>\n",
              "</div>\n",
              "      <button class=\"colab-df-convert\" onclick=\"convertToInteractive('df-b9a1368e-be14-4093-9824-c9e76304a6a8')\"\n",
              "              title=\"Convert this dataframe to an interactive table.\"\n",
              "              style=\"display:none;\">\n",
              "        \n",
              "  <svg xmlns=\"http://www.w3.org/2000/svg\" height=\"24px\"viewBox=\"0 0 24 24\"\n",
              "       width=\"24px\">\n",
              "    <path d=\"M0 0h24v24H0V0z\" fill=\"none\"/>\n",
              "    <path d=\"M18.56 5.44l.94 2.06.94-2.06 2.06-.94-2.06-.94-.94-2.06-.94 2.06-2.06.94zm-11 1L8.5 8.5l.94-2.06 2.06-.94-2.06-.94L8.5 2.5l-.94 2.06-2.06.94zm10 10l.94 2.06.94-2.06 2.06-.94-2.06-.94-.94-2.06-.94 2.06-2.06.94z\"/><path d=\"M17.41 7.96l-1.37-1.37c-.4-.4-.92-.59-1.43-.59-.52 0-1.04.2-1.43.59L10.3 9.45l-7.72 7.72c-.78.78-.78 2.05 0 2.83L4 21.41c.39.39.9.59 1.41.59.51 0 1.02-.2 1.41-.59l7.78-7.78 2.81-2.81c.8-.78.8-2.07 0-2.86zM5.41 20L4 18.59l7.72-7.72 1.47 1.35L5.41 20z\"/>\n",
              "  </svg>\n",
              "      </button>\n",
              "      \n",
              "  <style>\n",
              "    .colab-df-container {\n",
              "      display:flex;\n",
              "      flex-wrap:wrap;\n",
              "      gap: 12px;\n",
              "    }\n",
              "\n",
              "    .colab-df-convert {\n",
              "      background-color: #E8F0FE;\n",
              "      border: none;\n",
              "      border-radius: 50%;\n",
              "      cursor: pointer;\n",
              "      display: none;\n",
              "      fill: #1967D2;\n",
              "      height: 32px;\n",
              "      padding: 0 0 0 0;\n",
              "      width: 32px;\n",
              "    }\n",
              "\n",
              "    .colab-df-convert:hover {\n",
              "      background-color: #E2EBFA;\n",
              "      box-shadow: 0px 1px 2px rgba(60, 64, 67, 0.3), 0px 1px 3px 1px rgba(60, 64, 67, 0.15);\n",
              "      fill: #174EA6;\n",
              "    }\n",
              "\n",
              "    [theme=dark] .colab-df-convert {\n",
              "      background-color: #3B4455;\n",
              "      fill: #D2E3FC;\n",
              "    }\n",
              "\n",
              "    [theme=dark] .colab-df-convert:hover {\n",
              "      background-color: #434B5C;\n",
              "      box-shadow: 0px 1px 3px 1px rgba(0, 0, 0, 0.15);\n",
              "      filter: drop-shadow(0px 1px 2px rgba(0, 0, 0, 0.3));\n",
              "      fill: #FFFFFF;\n",
              "    }\n",
              "  </style>\n",
              "\n",
              "      <script>\n",
              "        const buttonEl =\n",
              "          document.querySelector('#df-b9a1368e-be14-4093-9824-c9e76304a6a8 button.colab-df-convert');\n",
              "        buttonEl.style.display =\n",
              "          google.colab.kernel.accessAllowed ? 'block' : 'none';\n",
              "\n",
              "        async function convertToInteractive(key) {\n",
              "          const element = document.querySelector('#df-b9a1368e-be14-4093-9824-c9e76304a6a8');\n",
              "          const dataTable =\n",
              "            await google.colab.kernel.invokeFunction('convertToInteractive',\n",
              "                                                     [key], {});\n",
              "          if (!dataTable) return;\n",
              "\n",
              "          const docLinkHtml = 'Like what you see? Visit the ' +\n",
              "            '<a target=\"_blank\" href=https://colab.research.google.com/notebooks/data_table.ipynb>data table notebook</a>'\n",
              "            + ' to learn more about interactive tables.';\n",
              "          element.innerHTML = '';\n",
              "          dataTable['output_type'] = 'display_data';\n",
              "          await google.colab.output.renderOutput(dataTable, element);\n",
              "          const docLink = document.createElement('div');\n",
              "          docLink.innerHTML = docLinkHtml;\n",
              "          element.appendChild(docLink);\n",
              "        }\n",
              "      </script>\n",
              "    </div>\n",
              "  </div>\n",
              "  "
            ]
          },
          "metadata": {},
          "execution_count": 258
        }
      ]
    },
    {
      "cell_type": "code",
      "source": [
        "# how many null values in each column\n",
        "\n",
        "for i in df_games.columns:\n",
        "  print(f'At the {i}, there are {df_games[i].isna().sum()} null values. ')"
      ],
      "metadata": {
        "colab": {
          "base_uri": "https://localhost:8080/"
        },
        "id": "mKg9L-EQllRY",
        "outputId": "50ba6f0c-d923-4def-cc70-fc6bf55ffc2d"
      },
      "execution_count": 259,
      "outputs": [
        {
          "output_type": "stream",
          "name": "stdout",
          "text": [
            "At the GAME_DATE_EST, there are 0 null values. \n",
            "At the GAME_ID, there are 0 null values. \n",
            "At the GAME_STATUS_TEXT, there are 0 null values. \n",
            "At the HOME_TEAM_ID, there are 0 null values. \n",
            "At the VISITOR_TEAM_ID, there are 0 null values. \n",
            "At the SEASON, there are 0 null values. \n",
            "At the TEAM_ID_home, there are 0 null values. \n",
            "At the PTS_home, there are 99 null values. \n",
            "At the FG_PCT_home, there are 99 null values. \n",
            "At the FT_PCT_home, there are 99 null values. \n",
            "At the FG3_PCT_home, there are 99 null values. \n",
            "At the AST_home, there are 99 null values. \n",
            "At the REB_home, there are 99 null values. \n",
            "At the TEAM_ID_away, there are 0 null values. \n",
            "At the PTS_away, there are 99 null values. \n",
            "At the FG_PCT_away, there are 99 null values. \n",
            "At the FT_PCT_away, there are 99 null values. \n",
            "At the FG3_PCT_away, there are 99 null values. \n",
            "At the AST_away, there are 99 null values. \n",
            "At the REB_away, there are 99 null values. \n",
            "At the HOME_TEAM_WINS, there are 0 null values. \n"
          ]
        }
      ]
    },
    {
      "cell_type": "code",
      "source": [
        "#cleaning data set\n",
        "\n",
        "#delete the unnecessary columns\n",
        "df_games.drop('GAME_STATUS_TEXT', inplace = True, axis = 1) \n",
        "df_games.drop('GAME_DATE_EST', inplace = True, axis = 1)\n",
        "df_games.drop('TEAM_ID_home', inplace = True, axis = 1)\n",
        "df_games.drop('TEAM_ID_away', inplace = True, axis = 1)\n",
        "df_games.head()\n"
      ],
      "metadata": {
        "colab": {
          "base_uri": "https://localhost:8080/",
          "height": 270
        },
        "id": "b_dxR4K-GHZa",
        "outputId": "846fbb4c-85a3-4373-9881-aa357895ca06"
      },
      "execution_count": 260,
      "outputs": [
        {
          "output_type": "execute_result",
          "data": {
            "text/plain": [
              "    GAME_ID  HOME_TEAM_ID  VISITOR_TEAM_ID  SEASON  PTS_home  FG_PCT_home  \\\n",
              "0  22101005    1610612748       1610612750    2021     104.0        0.398   \n",
              "1  22101006    1610612741       1610612739    2021     101.0        0.443   \n",
              "2  22101007    1610612759       1610612754    2021     108.0        0.412   \n",
              "3  22101008    1610612744       1610612749    2021     122.0        0.484   \n",
              "4  22101009    1610612743       1610612761    2021     115.0        0.551   \n",
              "\n",
              "   FT_PCT_home  FG3_PCT_home  AST_home  REB_home  PTS_away  FG_PCT_away  \\\n",
              "0        0.760         0.333      23.0      53.0     113.0        0.422   \n",
              "1        0.933         0.429      20.0      46.0      91.0        0.419   \n",
              "2        0.813         0.324      28.0      52.0     119.0        0.489   \n",
              "3        0.933         0.400      33.0      55.0     109.0        0.413   \n",
              "4        0.750         0.407      32.0      39.0     127.0        0.471   \n",
              "\n",
              "   FT_PCT_away  FG3_PCT_away  AST_away  REB_away  HOME_TEAM_WINS  \n",
              "0        0.875         0.357      21.0      46.0               0  \n",
              "1        0.824         0.208      19.0      40.0               1  \n",
              "2        1.000         0.389      23.0      47.0               0  \n",
              "3        0.696         0.386      27.0      39.0               1  \n",
              "4        0.760         0.387      28.0      50.0               0  "
            ],
            "text/html": [
              "\n",
              "  <div id=\"df-a0916a75-9415-4746-853b-85ca2caf04d6\">\n",
              "    <div class=\"colab-df-container\">\n",
              "      <div>\n",
              "<style scoped>\n",
              "    .dataframe tbody tr th:only-of-type {\n",
              "        vertical-align: middle;\n",
              "    }\n",
              "\n",
              "    .dataframe tbody tr th {\n",
              "        vertical-align: top;\n",
              "    }\n",
              "\n",
              "    .dataframe thead th {\n",
              "        text-align: right;\n",
              "    }\n",
              "</style>\n",
              "<table border=\"1\" class=\"dataframe\">\n",
              "  <thead>\n",
              "    <tr style=\"text-align: right;\">\n",
              "      <th></th>\n",
              "      <th>GAME_ID</th>\n",
              "      <th>HOME_TEAM_ID</th>\n",
              "      <th>VISITOR_TEAM_ID</th>\n",
              "      <th>SEASON</th>\n",
              "      <th>PTS_home</th>\n",
              "      <th>FG_PCT_home</th>\n",
              "      <th>FT_PCT_home</th>\n",
              "      <th>FG3_PCT_home</th>\n",
              "      <th>AST_home</th>\n",
              "      <th>REB_home</th>\n",
              "      <th>PTS_away</th>\n",
              "      <th>FG_PCT_away</th>\n",
              "      <th>FT_PCT_away</th>\n",
              "      <th>FG3_PCT_away</th>\n",
              "      <th>AST_away</th>\n",
              "      <th>REB_away</th>\n",
              "      <th>HOME_TEAM_WINS</th>\n",
              "    </tr>\n",
              "  </thead>\n",
              "  <tbody>\n",
              "    <tr>\n",
              "      <th>0</th>\n",
              "      <td>22101005</td>\n",
              "      <td>1610612748</td>\n",
              "      <td>1610612750</td>\n",
              "      <td>2021</td>\n",
              "      <td>104.0</td>\n",
              "      <td>0.398</td>\n",
              "      <td>0.760</td>\n",
              "      <td>0.333</td>\n",
              "      <td>23.0</td>\n",
              "      <td>53.0</td>\n",
              "      <td>113.0</td>\n",
              "      <td>0.422</td>\n",
              "      <td>0.875</td>\n",
              "      <td>0.357</td>\n",
              "      <td>21.0</td>\n",
              "      <td>46.0</td>\n",
              "      <td>0</td>\n",
              "    </tr>\n",
              "    <tr>\n",
              "      <th>1</th>\n",
              "      <td>22101006</td>\n",
              "      <td>1610612741</td>\n",
              "      <td>1610612739</td>\n",
              "      <td>2021</td>\n",
              "      <td>101.0</td>\n",
              "      <td>0.443</td>\n",
              "      <td>0.933</td>\n",
              "      <td>0.429</td>\n",
              "      <td>20.0</td>\n",
              "      <td>46.0</td>\n",
              "      <td>91.0</td>\n",
              "      <td>0.419</td>\n",
              "      <td>0.824</td>\n",
              "      <td>0.208</td>\n",
              "      <td>19.0</td>\n",
              "      <td>40.0</td>\n",
              "      <td>1</td>\n",
              "    </tr>\n",
              "    <tr>\n",
              "      <th>2</th>\n",
              "      <td>22101007</td>\n",
              "      <td>1610612759</td>\n",
              "      <td>1610612754</td>\n",
              "      <td>2021</td>\n",
              "      <td>108.0</td>\n",
              "      <td>0.412</td>\n",
              "      <td>0.813</td>\n",
              "      <td>0.324</td>\n",
              "      <td>28.0</td>\n",
              "      <td>52.0</td>\n",
              "      <td>119.0</td>\n",
              "      <td>0.489</td>\n",
              "      <td>1.000</td>\n",
              "      <td>0.389</td>\n",
              "      <td>23.0</td>\n",
              "      <td>47.0</td>\n",
              "      <td>0</td>\n",
              "    </tr>\n",
              "    <tr>\n",
              "      <th>3</th>\n",
              "      <td>22101008</td>\n",
              "      <td>1610612744</td>\n",
              "      <td>1610612749</td>\n",
              "      <td>2021</td>\n",
              "      <td>122.0</td>\n",
              "      <td>0.484</td>\n",
              "      <td>0.933</td>\n",
              "      <td>0.400</td>\n",
              "      <td>33.0</td>\n",
              "      <td>55.0</td>\n",
              "      <td>109.0</td>\n",
              "      <td>0.413</td>\n",
              "      <td>0.696</td>\n",
              "      <td>0.386</td>\n",
              "      <td>27.0</td>\n",
              "      <td>39.0</td>\n",
              "      <td>1</td>\n",
              "    </tr>\n",
              "    <tr>\n",
              "      <th>4</th>\n",
              "      <td>22101009</td>\n",
              "      <td>1610612743</td>\n",
              "      <td>1610612761</td>\n",
              "      <td>2021</td>\n",
              "      <td>115.0</td>\n",
              "      <td>0.551</td>\n",
              "      <td>0.750</td>\n",
              "      <td>0.407</td>\n",
              "      <td>32.0</td>\n",
              "      <td>39.0</td>\n",
              "      <td>127.0</td>\n",
              "      <td>0.471</td>\n",
              "      <td>0.760</td>\n",
              "      <td>0.387</td>\n",
              "      <td>28.0</td>\n",
              "      <td>50.0</td>\n",
              "      <td>0</td>\n",
              "    </tr>\n",
              "  </tbody>\n",
              "</table>\n",
              "</div>\n",
              "      <button class=\"colab-df-convert\" onclick=\"convertToInteractive('df-a0916a75-9415-4746-853b-85ca2caf04d6')\"\n",
              "              title=\"Convert this dataframe to an interactive table.\"\n",
              "              style=\"display:none;\">\n",
              "        \n",
              "  <svg xmlns=\"http://www.w3.org/2000/svg\" height=\"24px\"viewBox=\"0 0 24 24\"\n",
              "       width=\"24px\">\n",
              "    <path d=\"M0 0h24v24H0V0z\" fill=\"none\"/>\n",
              "    <path d=\"M18.56 5.44l.94 2.06.94-2.06 2.06-.94-2.06-.94-.94-2.06-.94 2.06-2.06.94zm-11 1L8.5 8.5l.94-2.06 2.06-.94-2.06-.94L8.5 2.5l-.94 2.06-2.06.94zm10 10l.94 2.06.94-2.06 2.06-.94-2.06-.94-.94-2.06-.94 2.06-2.06.94z\"/><path d=\"M17.41 7.96l-1.37-1.37c-.4-.4-.92-.59-1.43-.59-.52 0-1.04.2-1.43.59L10.3 9.45l-7.72 7.72c-.78.78-.78 2.05 0 2.83L4 21.41c.39.39.9.59 1.41.59.51 0 1.02-.2 1.41-.59l7.78-7.78 2.81-2.81c.8-.78.8-2.07 0-2.86zM5.41 20L4 18.59l7.72-7.72 1.47 1.35L5.41 20z\"/>\n",
              "  </svg>\n",
              "      </button>\n",
              "      \n",
              "  <style>\n",
              "    .colab-df-container {\n",
              "      display:flex;\n",
              "      flex-wrap:wrap;\n",
              "      gap: 12px;\n",
              "    }\n",
              "\n",
              "    .colab-df-convert {\n",
              "      background-color: #E8F0FE;\n",
              "      border: none;\n",
              "      border-radius: 50%;\n",
              "      cursor: pointer;\n",
              "      display: none;\n",
              "      fill: #1967D2;\n",
              "      height: 32px;\n",
              "      padding: 0 0 0 0;\n",
              "      width: 32px;\n",
              "    }\n",
              "\n",
              "    .colab-df-convert:hover {\n",
              "      background-color: #E2EBFA;\n",
              "      box-shadow: 0px 1px 2px rgba(60, 64, 67, 0.3), 0px 1px 3px 1px rgba(60, 64, 67, 0.15);\n",
              "      fill: #174EA6;\n",
              "    }\n",
              "\n",
              "    [theme=dark] .colab-df-convert {\n",
              "      background-color: #3B4455;\n",
              "      fill: #D2E3FC;\n",
              "    }\n",
              "\n",
              "    [theme=dark] .colab-df-convert:hover {\n",
              "      background-color: #434B5C;\n",
              "      box-shadow: 0px 1px 3px 1px rgba(0, 0, 0, 0.15);\n",
              "      filter: drop-shadow(0px 1px 2px rgba(0, 0, 0, 0.3));\n",
              "      fill: #FFFFFF;\n",
              "    }\n",
              "  </style>\n",
              "\n",
              "      <script>\n",
              "        const buttonEl =\n",
              "          document.querySelector('#df-a0916a75-9415-4746-853b-85ca2caf04d6 button.colab-df-convert');\n",
              "        buttonEl.style.display =\n",
              "          google.colab.kernel.accessAllowed ? 'block' : 'none';\n",
              "\n",
              "        async function convertToInteractive(key) {\n",
              "          const element = document.querySelector('#df-a0916a75-9415-4746-853b-85ca2caf04d6');\n",
              "          const dataTable =\n",
              "            await google.colab.kernel.invokeFunction('convertToInteractive',\n",
              "                                                     [key], {});\n",
              "          if (!dataTable) return;\n",
              "\n",
              "          const docLinkHtml = 'Like what you see? Visit the ' +\n",
              "            '<a target=\"_blank\" href=https://colab.research.google.com/notebooks/data_table.ipynb>data table notebook</a>'\n",
              "            + ' to learn more about interactive tables.';\n",
              "          element.innerHTML = '';\n",
              "          dataTable['output_type'] = 'display_data';\n",
              "          await google.colab.output.renderOutput(dataTable, element);\n",
              "          const docLink = document.createElement('div');\n",
              "          docLink.innerHTML = docLinkHtml;\n",
              "          element.appendChild(docLink);\n",
              "        }\n",
              "      </script>\n",
              "    </div>\n",
              "  </div>\n",
              "  "
            ]
          },
          "metadata": {},
          "execution_count": 260
        }
      ]
    },
    {
      "cell_type": "code",
      "source": [
        "# filling null values\n",
        "\n",
        "#--- PTS-HOME -----\n",
        "#check if there are non-numeric values\n",
        "\n",
        "print( df_games['PTS_home'].unique())\n",
        "\n",
        "# get the mean of the values to fill null values\n",
        "print('\\nHome team score avarage: ', df_games['PTS_home'].mean())\n",
        "\n",
        "df_games['PTS_home'].fillna(df_games['PTS_home'].mean(), inplace = True )\n",
        "\n"
      ],
      "metadata": {
        "colab": {
          "base_uri": "https://localhost:8080/"
        },
        "id": "BQrsbUzaJEgz",
        "outputId": "a69265a4-6967-4954-f280-534f16d9d1ec"
      },
      "execution_count": 261,
      "outputs": [
        {
          "output_type": "stream",
          "name": "stdout",
          "text": [
            "[104. 101. 108. 122. 115. 134. 127. 118. 112. 114. 117. 100. 120. 102.\n",
            "  90. 124. 139. 132.  77. 123. 121.  99. 113. 111. 131. 126. 133. 103.\n",
            " 138.  93. 135. 125.  97. 116. 130. 107. 106.  98. 109. 129. 119. 110.\n",
            " 128.  92.  95. 153. 142.  91.  87. 105.  83.  86.  80.  96. 136.  94.\n",
            "  88.  85. 140.  82. 144.  89. 137.  84. 152. 146.  78.  79.  59. 147.\n",
            "  81. 141. 154. 143. 145.  73. 149.  75.  68.  76. 151.  63.  69.  67.\n",
            "  74.  72.  65.  71.  70.  62.  64.  66. 168.  36. 157.  60.  nan 150.\n",
            " 158. 148. 161.]\n",
            "\n",
            "Home team score avarage:  103.10604350702417\n"
          ]
        }
      ]
    },
    {
      "cell_type": "code",
      "source": [
        "#filling null values \n",
        "df_games['PTS_away'].fillna(df_games['PTS_away'].mean(), inplace = True )\n",
        "df_games['FG_PCT_home'].fillna(df_games['FG_PCT_home'].mean(), inplace = True )\n",
        "df_games['FG_PCT_away'].fillna(df_games['FG_PCT_away'].mean(), inplace = True)\n",
        "df_games['FG3_PCT_home'].fillna(df_games['FG3_PCT_home'].mean(), inplace = True)\n",
        "df_games['FG3_PCT_away'].fillna(df_games['FG3_PCT_away'].mean(), inplace = True)\n",
        "df_games['FT_PCT_home'].fillna(df_games['FT_PCT_home'].mean(), inplace = True )\n",
        "df_games['FT_PCT_away'].fillna(df_games['FT_PCT_away'].mean(), inplace = True )\n",
        "df_games['REB_home'].fillna(df_games['REB_home'].mean(), inplace = True )\n",
        "df_games['REB_away'].fillna(df_games['REB_away'].mean(), inplace = True )\n",
        "\n",
        "\n",
        "\n"
      ],
      "metadata": {
        "id": "UmsOEduRk2Pc"
      },
      "execution_count": 262,
      "outputs": []
    },
    {
      "cell_type": "code",
      "source": [
        "# are teams most likely to win home games \n",
        "\n",
        "print(df_games['HOME_TEAM_WINS'].value_counts())\n",
        "\n",
        "df_games['HOME_TEAM_WINS'].value_counts().plot.bar()"
      ],
      "metadata": {
        "id": "FHKJ7PsOYD9F",
        "colab": {
          "base_uri": "https://localhost:8080/",
          "height": 331
        },
        "outputId": "3764183d-c24e-476d-a310-39c860af436e"
      },
      "execution_count": 263,
      "outputs": [
        {
          "output_type": "stream",
          "name": "stdout",
          "text": [
            "1    15155\n",
            "0    10641\n",
            "Name: HOME_TEAM_WINS, dtype: int64\n"
          ]
        },
        {
          "output_type": "execute_result",
          "data": {
            "text/plain": [
              "<matplotlib.axes._subplots.AxesSubplot at 0x7f2a70cda510>"
            ]
          },
          "metadata": {},
          "execution_count": 263
        },
        {
          "output_type": "display_data",
          "data": {
            "text/plain": [
              "<Figure size 432x288 with 1 Axes>"
            ],
            "image/png": "[encoded data removed]"
          },
          "metadata": {
            "needs_background": "light"
          }
        }
      ]
    },
    {
      "cell_type": "code",
      "source": [
        "find_percentage = df_games['HOME_TEAM_WINS'].value_counts() / len(df_games) * 100\n",
        "\n",
        "print(f'\\nThe posibility to win for home team is {find_percentage[1]:.2f}%, and the posibility for loosing is {find_percentage[0]:.2f}%')"
      ],
      "metadata": {
        "colab": {
          "base_uri": "https://localhost:8080/"
        },
        "id": "BaD0RCYVQTPx",
        "outputId": "4ce50485-b793-4cf5-f78b-2f49497712e2"
      },
      "execution_count": 205,
      "outputs": [
        {
          "output_type": "stream",
          "name": "stdout",
          "text": [
            "\n",
            "The posibility to win for home team is 58.75%, and the posibility for loosing is 41.25%\n"
          ]
        }
      ]
    },
    {
      "cell_type": "code",
      "source": [
        "# comparising home team and away team\n",
        "\n",
        "# getting the average of the values\n",
        "fg_pct_home = df_games['FG_PCT_home'].mean()\n",
        "fg_pct_away = df_games['FG_PCT_away'].mean()\n",
        "fg3_pct_home = df_games['FG3_PCT_home'].mean()\n",
        "fg3_pct_away = df_games['FG3_PCT_away'].mean()\n",
        "ft_pct_home = df_games['FT_PCT_home'].mean()\n",
        "ft_pct_away = df_games['FT_PCT_away'].mean()\n",
        "reb_home = df_games['REB_home'].mean()\n",
        "reb_away = df_games['REB_away'].mean()\n",
        "ast_home = df_games['AST_home'].mean()\n",
        "ast_away = df_games['AST_away'].mean()\n",
        "pts_home = df_games['PTS_home'].mean()\n",
        "pts_away = df_games['PTS_away'].mean()\n",
        "\n",
        "\n",
        "\n",
        "\n",
        "# create the chart\n",
        "\n",
        "home_bar = [fg_pct_home, fg3_pct_home, ft_pct_home]\n",
        "away_bar = [fg_pct_away, fg3_pct_away, ft_pct_away]\n",
        "\n",
        "titles = ['field goal percentage', 'three point percentage', 'free throw percentage']\n",
        "\n",
        "horizontal = np.arange(len(titles))\n",
        "\n",
        "plt.bar(titles, home_bar, width = 0.25, color = '#0077b6' , label = 'Home Team')\n",
        "plt.bar(horizontal + 0.25, away_bar,width = 0.25, color = '#fb8500' , label = 'Away Team')\n",
        "plt.legend()\n"
      ],
      "metadata": {
        "colab": {
          "base_uri": "https://localhost:8080/",
          "height": 282
        },
        "id": "bmSzB6DeH1HI",
        "outputId": "8ac9d19a-31b4-4cf9-b462-6e5fc9de63d3"
      },
      "execution_count": 264,
      "outputs": [
        {
          "output_type": "execute_result",
          "data": {
            "text/plain": [
              "<matplotlib.legend.Legend at 0x7f2a6522d9d0>"
            ]
          },
          "metadata": {},
          "execution_count": 264
        },
        {
          "output_type": "display_data",
          "data": {
            "text/plain": [
              "<Figure size 432x288 with 1 Axes>"
            ],
            "image/png": "[encoded data removed]"
          },
          "metadata": {
            "needs_background": "light"
          }
        }
      ]
    },
    {
      "cell_type": "code",
      "source": [
        "#comparising home team and away team\n",
        "\n",
        "home_bar1 = [reb_home, ast_home, pts_home]\n",
        "away_bar1 = [reb_away, ast_away, pts_away]\n",
        "\n",
        "titles1 = ['rebounds', 'assists', 'points']\n",
        "horizontal1 = np.arange(len(titles1))\n",
        "\n",
        "plt.bar(titles1, home_bar1, width = 0.25, color = '#0077b6' , label = 'Home Team')\n",
        "plt.bar(horizontal1 + 0.25, away_bar1, width = 0.25, color = '#fb8500' , label = 'Away team')\n",
        "plt.legend()\n"
      ],
      "metadata": {
        "colab": {
          "base_uri": "https://localhost:8080/",
          "height": 282
        },
        "id": "Jcav6pADfyDN",
        "outputId": "e44bd752-960b-4d6b-b740-6a6c91fd0bef"
      },
      "execution_count": 265,
      "outputs": [
        {
          "output_type": "execute_result",
          "data": {
            "text/plain": [
              "<matplotlib.legend.Legend at 0x7f2a70ccd110>"
            ]
          },
          "metadata": {},
          "execution_count": 265
        },
        {
          "output_type": "display_data",
          "data": {
            "text/plain": [
              "<Figure size 432x288 with 1 Axes>"
            ],
            "image/png": "[encoded data removed]"
          },
          "metadata": {
            "needs_background": "light"
          }
        }
      ]
    },
    {
      "cell_type": "code",
      "source": [
        "# home team's assists and rebounds \n",
        "\n",
        "home_ast_reb = df_games.groupby(['HOME_TEAM_WINS'])['AST_home','REB_home'].mean()\n",
        "home_ast_reb\n",
        "\n",
        "\n"
      ],
      "metadata": {
        "colab": {
          "base_uri": "https://localhost:8080/",
          "height": 198
        },
        "id": "68ipswTUnKJM",
        "outputId": "0219cecd-23d5-4834-da73-2df977d65001"
      },
      "execution_count": 266,
      "outputs": [
        {
          "output_type": "stream",
          "name": "stderr",
          "text": [
            "/usr/local/lib/python3.7/dist-packages/ipykernel_launcher.py:3: FutureWarning: Indexing with multiple keys (implicitly converted to a tuple of keys) will be deprecated, use a list instead.\n",
            "  This is separate from the ipykernel package so we can avoid doing imports until\n"
          ]
        },
        {
          "output_type": "execute_result",
          "data": {
            "text/plain": [
              "                 AST_home   REB_home\n",
              "HOME_TEAM_WINS                      \n",
              "0               20.850313  41.408066\n",
              "1               24.049027  44.706368"
            ],
            "text/html": [
              "\n",
              "  <div id=\"df-370444ec-c95d-4be9-a03b-ebeee981c490\">\n",
              "    <div class=\"colab-df-container\">\n",
              "      <div>\n",
              "<style scoped>\n",
              "    .dataframe tbody tr th:only-of-type {\n",
              "        vertical-align: middle;\n",
              "    }\n",
              "\n",
              "    .dataframe tbody tr th {\n",
              "        vertical-align: top;\n",
              "    }\n",
              "\n",
              "    .dataframe thead th {\n",
              "        text-align: right;\n",
              "    }\n",
              "</style>\n",
              "<table border=\"1\" class=\"dataframe\">\n",
              "  <thead>\n",
              "    <tr style=\"text-align: right;\">\n",
              "      <th></th>\n",
              "      <th>AST_home</th>\n",
              "      <th>REB_home</th>\n",
              "    </tr>\n",
              "    <tr>\n",
              "      <th>HOME_TEAM_WINS</th>\n",
              "      <th></th>\n",
              "      <th></th>\n",
              "    </tr>\n",
              "  </thead>\n",
              "  <tbody>\n",
              "    <tr>\n",
              "      <th>0</th>\n",
              "      <td>20.850313</td>\n",
              "      <td>41.408066</td>\n",
              "    </tr>\n",
              "    <tr>\n",
              "      <th>1</th>\n",
              "      <td>24.049027</td>\n",
              "      <td>44.706368</td>\n",
              "    </tr>\n",
              "  </tbody>\n",
              "</table>\n",
              "</div>\n",
              "      <button class=\"colab-df-convert\" onclick=\"convertToInteractive('df-370444ec-c95d-4be9-a03b-ebeee981c490')\"\n",
              "              title=\"Convert this dataframe to an interactive table.\"\n",
              "              style=\"display:none;\">\n",
              "        \n",
              "  <svg xmlns=\"http://www.w3.org/2000/svg\" height=\"24px\"viewBox=\"0 0 24 24\"\n",
              "       width=\"24px\">\n",
              "    <path d=\"M0 0h24v24H0V0z\" fill=\"none\"/>\n",
              "    <path d=\"M18.56 5.44l.94 2.06.94-2.06 2.06-.94-2.06-.94-.94-2.06-.94 2.06-2.06.94zm-11 1L8.5 8.5l.94-2.06 2.06-.94-2.06-.94L8.5 2.5l-.94 2.06-2.06.94zm10 10l.94 2.06.94-2.06 2.06-.94-2.06-.94-.94-2.06-.94 2.06-2.06.94z\"/><path d=\"M17.41 7.96l-1.37-1.37c-.4-.4-.92-.59-1.43-.59-.52 0-1.04.2-1.43.59L10.3 9.45l-7.72 7.72c-.78.78-.78 2.05 0 2.83L4 21.41c.39.39.9.59 1.41.59.51 0 1.02-.2 1.41-.59l7.78-7.78 2.81-2.81c.8-.78.8-2.07 0-2.86zM5.41 20L4 18.59l7.72-7.72 1.47 1.35L5.41 20z\"/>\n",
              "  </svg>\n",
              "      </button>\n",
              "      \n",
              "  <style>\n",
              "    .colab-df-container {\n",
              "      display:flex;\n",
              "      flex-wrap:wrap;\n",
              "      gap: 12px;\n",
              "    }\n",
              "\n",
              "    .colab-df-convert {\n",
              "      background-color: #E8F0FE;\n",
              "      border: none;\n",
              "      border-radius: 50%;\n",
              "      cursor: pointer;\n",
              "      display: none;\n",
              "      fill: #1967D2;\n",
              "      height: 32px;\n",
              "      padding: 0 0 0 0;\n",
              "      width: 32px;\n",
              "    }\n",
              "\n",
              "    .colab-df-convert:hover {\n",
              "      background-color: #E2EBFA;\n",
              "      box-shadow: 0px 1px 2px rgba(60, 64, 67, 0.3), 0px 1px 3px 1px rgba(60, 64, 67, 0.15);\n",
              "      fill: #174EA6;\n",
              "    }\n",
              "\n",
              "    [theme=dark] .colab-df-convert {\n",
              "      background-color: #3B4455;\n",
              "      fill: #D2E3FC;\n",
              "    }\n",
              "\n",
              "    [theme=dark] .colab-df-convert:hover {\n",
              "      background-color: #434B5C;\n",
              "      box-shadow: 0px 1px 3px 1px rgba(0, 0, 0, 0.15);\n",
              "      filter: drop-shadow(0px 1px 2px rgba(0, 0, 0, 0.3));\n",
              "      fill: #FFFFFF;\n",
              "    }\n",
              "  </style>\n",
              "\n",
              "      <script>\n",
              "        const buttonEl =\n",
              "          document.querySelector('#df-370444ec-c95d-4be9-a03b-ebeee981c490 button.colab-df-convert');\n",
              "        buttonEl.style.display =\n",
              "          google.colab.kernel.accessAllowed ? 'block' : 'none';\n",
              "\n",
              "        async function convertToInteractive(key) {\n",
              "          const element = document.querySelector('#df-370444ec-c95d-4be9-a03b-ebeee981c490');\n",
              "          const dataTable =\n",
              "            await google.colab.kernel.invokeFunction('convertToInteractive',\n",
              "                                                     [key], {});\n",
              "          if (!dataTable) return;\n",
              "\n",
              "          const docLinkHtml = 'Like what you see? Visit the ' +\n",
              "            '<a target=\"_blank\" href=https://colab.research.google.com/notebooks/data_table.ipynb>data table notebook</a>'\n",
              "            + ' to learn more about interactive tables.';\n",
              "          element.innerHTML = '';\n",
              "          dataTable['output_type'] = 'display_data';\n",
              "          await google.colab.output.renderOutput(dataTable, element);\n",
              "          const docLink = document.createElement('div');\n",
              "          docLink.innerHTML = docLinkHtml;\n",
              "          element.appendChild(docLink);\n",
              "        }\n",
              "      </script>\n",
              "    </div>\n",
              "  </div>\n",
              "  "
            ]
          },
          "metadata": {},
          "execution_count": 266
        }
      ]
    },
    {
      "cell_type": "markdown",
      "source": [
        "* We can say that to win the game the average number of assists that need to be done is 24 and the average number of rebounds need to be done is 45\n"
      ],
      "metadata": {
        "id": "2WIaJ-nuf5oz"
      }
    },
    {
      "cell_type": "code",
      "source": [
        "home_ast_reb.unstack().plot.bar()\n"
      ],
      "metadata": {
        "colab": {
          "base_uri": "https://localhost:8080/",
          "height": 361
        },
        "id": "drUNyc_O9iHi",
        "outputId": "abc784f8-ac93-408e-8a0f-49ad39ddeaa1"
      },
      "execution_count": 267,
      "outputs": [
        {
          "output_type": "execute_result",
          "data": {
            "text/plain": [
              "<matplotlib.axes._subplots.AxesSubplot at 0x7f2a6618e0d0>"
            ]
          },
          "metadata": {},
          "execution_count": 267
        },
        {
          "output_type": "display_data",
          "data": {
            "text/plain": [
              "<Figure size 432x288 with 1 Axes>"
            ],
            "image/png": "[encoded data removed]"
          },
          "metadata": {
            "needs_background": "light"
          }
        }
      ]
    },
    {
      "cell_type": "code",
      "source": [
        "# away team's assists and rebounds\n",
        "\n",
        "away_ast_reb = df_games.groupby(['HOME_TEAM_WINS'])['AST_away','REB_away'].mean()\n",
        "away_ast_reb"
      ],
      "metadata": {
        "colab": {
          "base_uri": "https://localhost:8080/",
          "height": 198
        },
        "id": "fGy2BCm4eeQP",
        "outputId": "aa1f50bc-7a1f-48c0-c871-c575426e01ec"
      },
      "execution_count": 268,
      "outputs": [
        {
          "output_type": "stream",
          "name": "stderr",
          "text": [
            "/usr/local/lib/python3.7/dist-packages/ipykernel_launcher.py:3: FutureWarning: Indexing with multiple keys (implicitly converted to a tuple of keys) will be deprecated, use a list instead.\n",
            "  This is separate from the ipykernel package so we can avoid doing imports until\n"
          ]
        },
        {
          "output_type": "execute_result",
          "data": {
            "text/plain": [
              "                 AST_away   REB_away\n",
              "HOME_TEAM_WINS                      \n",
              "0               23.222064  44.051821\n",
              "1               20.139162  40.704256"
            ],
            "text/html": [
              "\n",
              "  <div id=\"df-98776152-f190-46d4-aedc-316e9dd0af05\">\n",
              "    <div class=\"colab-df-container\">\n",
              "      <div>\n",
              "<style scoped>\n",
              "    .dataframe tbody tr th:only-of-type {\n",
              "        vertical-align: middle;\n",
              "    }\n",
              "\n",
              "    .dataframe tbody tr th {\n",
              "        vertical-align: top;\n",
              "    }\n",
              "\n",
              "    .dataframe thead th {\n",
              "        text-align: right;\n",
              "    }\n",
              "</style>\n",
              "<table border=\"1\" class=\"dataframe\">\n",
              "  <thead>\n",
              "    <tr style=\"text-align: right;\">\n",
              "      <th></th>\n",
              "      <th>AST_away</th>\n",
              "      <th>REB_away</th>\n",
              "    </tr>\n",
              "    <tr>\n",
              "      <th>HOME_TEAM_WINS</th>\n",
              "      <th></th>\n",
              "      <th></th>\n",
              "    </tr>\n",
              "  </thead>\n",
              "  <tbody>\n",
              "    <tr>\n",
              "      <th>0</th>\n",
              "      <td>23.222064</td>\n",
              "      <td>44.051821</td>\n",
              "    </tr>\n",
              "    <tr>\n",
              "      <th>1</th>\n",
              "      <td>20.139162</td>\n",
              "      <td>40.704256</td>\n",
              "    </tr>\n",
              "  </tbody>\n",
              "</table>\n",
              "</div>\n",
              "      <button class=\"colab-df-convert\" onclick=\"convertToInteractive('df-98776152-f190-46d4-aedc-316e9dd0af05')\"\n",
              "              title=\"Convert this dataframe to an interactive table.\"\n",
              "              style=\"display:none;\">\n",
              "        \n",
              "  <svg xmlns=\"http://www.w3.org/2000/svg\" height=\"24px\"viewBox=\"0 0 24 24\"\n",
              "       width=\"24px\">\n",
              "    <path d=\"M0 0h24v24H0V0z\" fill=\"none\"/>\n",
              "    <path d=\"M18.56 5.44l.94 2.06.94-2.06 2.06-.94-2.06-.94-.94-2.06-.94 2.06-2.06.94zm-11 1L8.5 8.5l.94-2.06 2.06-.94-2.06-.94L8.5 2.5l-.94 2.06-2.06.94zm10 10l.94 2.06.94-2.06 2.06-.94-2.06-.94-.94-2.06-.94 2.06-2.06.94z\"/><path d=\"M17.41 7.96l-1.37-1.37c-.4-.4-.92-.59-1.43-.59-.52 0-1.04.2-1.43.59L10.3 9.45l-7.72 7.72c-.78.78-.78 2.05 0 2.83L4 21.41c.39.39.9.59 1.41.59.51 0 1.02-.2 1.41-.59l7.78-7.78 2.81-2.81c.8-.78.8-2.07 0-2.86zM5.41 20L4 18.59l7.72-7.72 1.47 1.35L5.41 20z\"/>\n",
              "  </svg>\n",
              "      </button>\n",
              "      \n",
              "  <style>\n",
              "    .colab-df-container {\n",
              "      display:flex;\n",
              "      flex-wrap:wrap;\n",
              "      gap: 12px;\n",
              "    }\n",
              "\n",
              "    .colab-df-convert {\n",
              "      background-color: #E8F0FE;\n",
              "      border: none;\n",
              "      border-radius: 50%;\n",
              "      cursor: pointer;\n",
              "      display: none;\n",
              "      fill: #1967D2;\n",
              "      height: 32px;\n",
              "      padding: 0 0 0 0;\n",
              "      width: 32px;\n",
              "    }\n",
              "\n",
              "    .colab-df-convert:hover {\n",
              "      background-color: #E2EBFA;\n",
              "      box-shadow: 0px 1px 2px rgba(60, 64, 67, 0.3), 0px 1px 3px 1px rgba(60, 64, 67, 0.15);\n",
              "      fill: #174EA6;\n",
              "    }\n",
              "\n",
              "    [theme=dark] .colab-df-convert {\n",
              "      background-color: #3B4455;\n",
              "      fill: #D2E3FC;\n",
              "    }\n",
              "\n",
              "    [theme=dark] .colab-df-convert:hover {\n",
              "      background-color: #434B5C;\n",
              "      box-shadow: 0px 1px 3px 1px rgba(0, 0, 0, 0.15);\n",
              "      filter: drop-shadow(0px 1px 2px rgba(0, 0, 0, 0.3));\n",
              "      fill: #FFFFFF;\n",
              "    }\n",
              "  </style>\n",
              "\n",
              "      <script>\n",
              "        const buttonEl =\n",
              "          document.querySelector('#df-98776152-f190-46d4-aedc-316e9dd0af05 button.colab-df-convert');\n",
              "        buttonEl.style.display =\n",
              "          google.colab.kernel.accessAllowed ? 'block' : 'none';\n",
              "\n",
              "        async function convertToInteractive(key) {\n",
              "          const element = document.querySelector('#df-98776152-f190-46d4-aedc-316e9dd0af05');\n",
              "          const dataTable =\n",
              "            await google.colab.kernel.invokeFunction('convertToInteractive',\n",
              "                                                     [key], {});\n",
              "          if (!dataTable) return;\n",
              "\n",
              "          const docLinkHtml = 'Like what you see? Visit the ' +\n",
              "            '<a target=\"_blank\" href=https://colab.research.google.com/notebooks/data_table.ipynb>data table notebook</a>'\n",
              "            + ' to learn more about interactive tables.';\n",
              "          element.innerHTML = '';\n",
              "          dataTable['output_type'] = 'display_data';\n",
              "          await google.colab.output.renderOutput(dataTable, element);\n",
              "          const docLink = document.createElement('div');\n",
              "          docLink.innerHTML = docLinkHtml;\n",
              "          element.appendChild(docLink);\n",
              "        }\n",
              "      </script>\n",
              "    </div>\n",
              "  </div>\n",
              "  "
            ]
          },
          "metadata": {},
          "execution_count": 268
        }
      ]
    },
    {
      "cell_type": "code",
      "source": [
        "away_ast_reb.unstack().plot.bar()"
      ],
      "metadata": {
        "colab": {
          "base_uri": "https://localhost:8080/",
          "height": 359
        },
        "id": "w7G4TQ5gxToj",
        "outputId": "5099668a-0e9d-4ab5-e695-656b846cb15c"
      },
      "execution_count": 269,
      "outputs": [
        {
          "output_type": "execute_result",
          "data": {
            "text/plain": [
              "<matplotlib.axes._subplots.AxesSubplot at 0x7f2a6665d890>"
            ]
          },
          "metadata": {},
          "execution_count": 269
        },
        {
          "output_type": "display_data",
          "data": {
            "text/plain": [
              "<Figure size 432x288 with 1 Axes>"
            ],
            "image/png": "[encoded data removed]"
          },
          "metadata": {
            "needs_background": "light"
          }
        }
      ]
    },
    {
      "cell_type": "code",
      "source": [
        "#comparing assists and field goals to understand if the amount of assists effect the field goal made by home team\n",
        "\n",
        "\n",
        "home_ast_fg = df_games.groupby(['AST_home'])['FG_PCT_home'].mean()\n",
        "home_ast_fg"
      ],
      "metadata": {
        "colab": {
          "base_uri": "https://localhost:8080/"
        },
        "id": "LRo8crAvaGuc",
        "outputId": "ecec3227-f80a-4a5c-fd25-26f8ccea5d3b"
      },
      "execution_count": 270,
      "outputs": [
        {
          "output_type": "execute_result",
          "data": {
            "text/plain": [
              "AST_home\n",
              "6.0     0.357000\n",
              "7.0     0.352000\n",
              "8.0     0.360467\n",
              "9.0     0.379800\n",
              "10.0    0.378639\n",
              "11.0    0.398408\n",
              "12.0    0.399926\n",
              "13.0    0.403956\n",
              "14.0    0.407555\n",
              "15.0    0.416293\n",
              "16.0    0.420663\n",
              "17.0    0.425276\n",
              "18.0    0.431232\n",
              "19.0    0.437096\n",
              "20.0    0.444001\n",
              "21.0    0.449350\n",
              "22.0    0.453634\n",
              "23.0    0.462881\n",
              "24.0    0.467314\n",
              "25.0    0.474561\n",
              "26.0    0.479028\n",
              "27.0    0.483806\n",
              "28.0    0.493318\n",
              "29.0    0.500052\n",
              "30.0    0.502767\n",
              "31.0    0.513820\n",
              "32.0    0.519791\n",
              "33.0    0.525255\n",
              "34.0    0.530819\n",
              "35.0    0.525611\n",
              "36.0    0.537587\n",
              "37.0    0.546373\n",
              "38.0    0.544629\n",
              "39.0    0.550679\n",
              "40.0    0.559143\n",
              "41.0    0.576455\n",
              "42.0    0.577400\n",
              "43.0    0.633000\n",
              "44.0    0.604000\n",
              "45.0    0.519000\n",
              "47.0    0.616000\n",
              "50.0    0.612000\n",
              "Name: FG_PCT_home, dtype: float64"
            ]
          },
          "metadata": {},
          "execution_count": 270
        }
      ]
    },
    {
      "cell_type": "code",
      "source": [
        "home_ast_fg.plot.bar()\n",
        "plt.xlabel('Assists')\n",
        "plt.ylabel('Field Goal Percentage')"
      ],
      "metadata": {
        "colab": {
          "base_uri": "https://localhost:8080/",
          "height": 309
        },
        "id": "JUWSrCJrau3M",
        "outputId": "aa4eff1f-7294-4fa5-c6ab-60dd403aa08b"
      },
      "execution_count": 271,
      "outputs": [
        {
          "output_type": "execute_result",
          "data": {
            "text/plain": [
              "Text(0, 0.5, 'Field Goal Percentage')"
            ]
          },
          "metadata": {},
          "execution_count": 271
        },
        {
          "output_type": "display_data",
          "data": {
            "text/plain": [
              "<Figure size 432x288 with 1 Axes>"
            ],
            "image/png": "[encoded data removed]"
          },
          "metadata": {
            "needs_background": "light"
          }
        }
      ]
    },
    {
      "cell_type": "code",
      "source": [
        "# the sum of games won and lost by years\n",
        "\n",
        "season_compare = df_games.groupby('HOME_TEAM_WINS')['SEASON'].value_counts().sort_index()\n",
        "season_compare"
      ],
      "metadata": {
        "colab": {
          "base_uri": "https://localhost:8080/"
        },
        "id": "wJUk0fobqdx0",
        "outputId": "965ab654-c21f-4ecb-a98f-233382e97100"
      },
      "execution_count": 272,
      "outputs": [
        {
          "output_type": "execute_result",
          "data": {
            "text/plain": [
              "HOME_TEAM_WINS  SEASON\n",
              "0               2003      585\n",
              "                2004      538\n",
              "                2005      566\n",
              "                2006      580\n",
              "                2007      549\n",
              "                2008      568\n",
              "                2009      567\n",
              "                2010      551\n",
              "                2011      448\n",
              "                2012      548\n",
              "                2013      608\n",
              "                2014      602\n",
              "                2015      575\n",
              "                2016      589\n",
              "                2017      577\n",
              "                2018      568\n",
              "                2019      575\n",
              "                2020      568\n",
              "                2021      479\n",
              "1               2003      800\n",
              "                2004      824\n",
              "                2005      866\n",
              "                2006      839\n",
              "                2007      862\n",
              "                2008      857\n",
              "                2009      857\n",
              "                2010      871\n",
              "                2011      656\n",
              "                2012      872\n",
              "                2013      819\n",
              "                2014      816\n",
              "                2015      841\n",
              "                2016      816\n",
              "                2017      805\n",
              "                2018      810\n",
              "                2019      666\n",
              "                2020      681\n",
              "                2021      597\n",
              "Name: SEASON, dtype: int64"
            ]
          },
          "metadata": {},
          "execution_count": 272
        }
      ]
    },
    {
      "cell_type": "code",
      "source": [
        "# the games home team's won over the years\n",
        "\n",
        "season_compare[1].plot.bar()"
      ],
      "metadata": {
        "id": "JbohUYOkt2QE",
        "colab": {
          "base_uri": "https://localhost:8080/",
          "height": 312
        },
        "outputId": "d693742c-a1c9-4d8d-839e-a13672dcff7f"
      },
      "execution_count": 273,
      "outputs": [
        {
          "output_type": "execute_result",
          "data": {
            "text/plain": [
              "<matplotlib.axes._subplots.AxesSubplot at 0x7f2a67c5b690>"
            ]
          },
          "metadata": {},
          "execution_count": 273
        },
        {
          "output_type": "display_data",
          "data": {
            "text/plain": [
              "<Figure size 432x288 with 1 Axes>"
            ],
            "image/png": "[encoded data removed]"
          },
          "metadata": {
            "needs_background": "light"
          }
        }
      ]
    },
    {
      "cell_type": "code",
      "source": [
        "# the games home team's lost over the years\n",
        "\n",
        "season_compare[0].plot.bar()"
      ],
      "metadata": {
        "colab": {
          "base_uri": "https://localhost:8080/",
          "height": 312
        },
        "id": "mXA2X8XKMBI6",
        "outputId": "4013ec60-134f-46ce-afbf-1652138c4810"
      },
      "execution_count": 274,
      "outputs": [
        {
          "output_type": "execute_result",
          "data": {
            "text/plain": [
              "<matplotlib.axes._subplots.AxesSubplot at 0x7f2a63784290>"
            ]
          },
          "metadata": {},
          "execution_count": 274
        },
        {
          "output_type": "display_data",
          "data": {
            "text/plain": [
              "<Figure size 432x288 with 1 Axes>"
            ],
            "image/png": "[encoded data removed]"
          },
          "metadata": {
            "needs_background": "light"
          }
        }
      ]
    },
    {
      "cell_type": "code",
      "source": [
        "#the average percentage of the home team's field goals over the years   \n",
        "\n",
        "fg_pct_compare = df_games.groupby('SEASON').agg({'FG_PCT_home' : 'mean'})\n",
        "fg_pct_compare"
      ],
      "metadata": {
        "colab": {
          "base_uri": "https://localhost:8080/",
          "height": 677
        },
        "id": "7CIuje6qM24q",
        "outputId": "2c920f39-cfd2-4c6c-f332-022ccb4799c3"
      },
      "execution_count": 275,
      "outputs": [
        {
          "output_type": "execute_result",
          "data": {
            "text/plain": [
              "        FG_PCT_home\n",
              "SEASON             \n",
              "2003       0.446195\n",
              "2004       0.454632\n",
              "2005       0.460089\n",
              "2006       0.462074\n",
              "2007       0.463230\n",
              "2008       0.463702\n",
              "2009       0.465970\n",
              "2010       0.463857\n",
              "2011       0.453630\n",
              "2012       0.458730\n",
              "2013       0.459461\n",
              "2014       0.453162\n",
              "2015       0.456017\n",
              "2016       0.463353\n",
              "2017       0.465244\n",
              "2018       0.464680\n",
              "2019       0.463043\n",
              "2020       0.466913\n",
              "2021       0.461612"
            ],
            "text/html": [
              "\n",
              "  <div id=\"df-a707a188-e86e-4d98-a303-0f095c561eab\">\n",
              "    <div class=\"colab-df-container\">\n",
              "      <div>\n",
              "<style scoped>\n",
              "    .dataframe tbody tr th:only-of-type {\n",
              "        vertical-align: middle;\n",
              "    }\n",
              "\n",
              "    .dataframe tbody tr th {\n",
              "        vertical-align: top;\n",
              "    }\n",
              "\n",
              "    .dataframe thead th {\n",
              "        text-align: right;\n",
              "    }\n",
              "</style>\n",
              "<table border=\"1\" class=\"dataframe\">\n",
              "  <thead>\n",
              "    <tr style=\"text-align: right;\">\n",
              "      <th></th>\n",
              "      <th>FG_PCT_home</th>\n",
              "    </tr>\n",
              "    <tr>\n",
              "      <th>SEASON</th>\n",
              "      <th></th>\n",
              "    </tr>\n",
              "  </thead>\n",
              "  <tbody>\n",
              "    <tr>\n",
              "      <th>2003</th>\n",
              "      <td>0.446195</td>\n",
              "    </tr>\n",
              "    <tr>\n",
              "      <th>2004</th>\n",
              "      <td>0.454632</td>\n",
              "    </tr>\n",
              "    <tr>\n",
              "      <th>2005</th>\n",
              "      <td>0.460089</td>\n",
              "    </tr>\n",
              "    <tr>\n",
              "      <th>2006</th>\n",
              "      <td>0.462074</td>\n",
              "    </tr>\n",
              "    <tr>\n",
              "      <th>2007</th>\n",
              "      <td>0.463230</td>\n",
              "    </tr>\n",
              "    <tr>\n",
              "      <th>2008</th>\n",
              "      <td>0.463702</td>\n",
              "    </tr>\n",
              "    <tr>\n",
              "      <th>2009</th>\n",
              "      <td>0.465970</td>\n",
              "    </tr>\n",
              "    <tr>\n",
              "      <th>2010</th>\n",
              "      <td>0.463857</td>\n",
              "    </tr>\n",
              "    <tr>\n",
              "      <th>2011</th>\n",
              "      <td>0.453630</td>\n",
              "    </tr>\n",
              "    <tr>\n",
              "      <th>2012</th>\n",
              "      <td>0.458730</td>\n",
              "    </tr>\n",
              "    <tr>\n",
              "      <th>2013</th>\n",
              "      <td>0.459461</td>\n",
              "    </tr>\n",
              "    <tr>\n",
              "      <th>2014</th>\n",
              "      <td>0.453162</td>\n",
              "    </tr>\n",
              "    <tr>\n",
              "      <th>2015</th>\n",
              "      <td>0.456017</td>\n",
              "    </tr>\n",
              "    <tr>\n",
              "      <th>2016</th>\n",
              "      <td>0.463353</td>\n",
              "    </tr>\n",
              "    <tr>\n",
              "      <th>2017</th>\n",
              "      <td>0.465244</td>\n",
              "    </tr>\n",
              "    <tr>\n",
              "      <th>2018</th>\n",
              "      <td>0.464680</td>\n",
              "    </tr>\n",
              "    <tr>\n",
              "      <th>2019</th>\n",
              "      <td>0.463043</td>\n",
              "    </tr>\n",
              "    <tr>\n",
              "      <th>2020</th>\n",
              "      <td>0.466913</td>\n",
              "    </tr>\n",
              "    <tr>\n",
              "      <th>2021</th>\n",
              "      <td>0.461612</td>\n",
              "    </tr>\n",
              "  </tbody>\n",
              "</table>\n",
              "</div>\n",
              "      <button class=\"colab-df-convert\" onclick=\"convertToInteractive('df-a707a188-e86e-4d98-a303-0f095c561eab')\"\n",
              "              title=\"Convert this dataframe to an interactive table.\"\n",
              "              style=\"display:none;\">\n",
              "        \n",
              "  <svg xmlns=\"http://www.w3.org/2000/svg\" height=\"24px\"viewBox=\"0 0 24 24\"\n",
              "       width=\"24px\">\n",
              "    <path d=\"M0 0h24v24H0V0z\" fill=\"none\"/>\n",
              "    <path d=\"M18.56 5.44l.94 2.06.94-2.06 2.06-.94-2.06-.94-.94-2.06-.94 2.06-2.06.94zm-11 1L8.5 8.5l.94-2.06 2.06-.94-2.06-.94L8.5 2.5l-.94 2.06-2.06.94zm10 10l.94 2.06.94-2.06 2.06-.94-2.06-.94-.94-2.06-.94 2.06-2.06.94z\"/><path d=\"M17.41 7.96l-1.37-1.37c-.4-.4-.92-.59-1.43-.59-.52 0-1.04.2-1.43.59L10.3 9.45l-7.72 7.72c-.78.78-.78 2.05 0 2.83L4 21.41c.39.39.9.59 1.41.59.51 0 1.02-.2 1.41-.59l7.78-7.78 2.81-2.81c.8-.78.8-2.07 0-2.86zM5.41 20L4 18.59l7.72-7.72 1.47 1.35L5.41 20z\"/>\n",
              "  </svg>\n",
              "      </button>\n",
              "      \n",
              "  <style>\n",
              "    .colab-df-container {\n",
              "      display:flex;\n",
              "      flex-wrap:wrap;\n",
              "      gap: 12px;\n",
              "    }\n",
              "\n",
              "    .colab-df-convert {\n",
              "      background-color: #E8F0FE;\n",
              "      border: none;\n",
              "      border-radius: 50%;\n",
              "      cursor: pointer;\n",
              "      display: none;\n",
              "      fill: #1967D2;\n",
              "      height: 32px;\n",
              "      padding: 0 0 0 0;\n",
              "      width: 32px;\n",
              "    }\n",
              "\n",
              "    .colab-df-convert:hover {\n",
              "      background-color: #E2EBFA;\n",
              "      box-shadow: 0px 1px 2px rgba(60, 64, 67, 0.3), 0px 1px 3px 1px rgba(60, 64, 67, 0.15);\n",
              "      fill: #174EA6;\n",
              "    }\n",
              "\n",
              "    [theme=dark] .colab-df-convert {\n",
              "      background-color: #3B4455;\n",
              "      fill: #D2E3FC;\n",
              "    }\n",
              "\n",
              "    [theme=dark] .colab-df-convert:hover {\n",
              "      background-color: #434B5C;\n",
              "      box-shadow: 0px 1px 3px 1px rgba(0, 0, 0, 0.15);\n",
              "      filter: drop-shadow(0px 1px 2px rgba(0, 0, 0, 0.3));\n",
              "      fill: #FFFFFF;\n",
              "    }\n",
              "  </style>\n",
              "\n",
              "      <script>\n",
              "        const buttonEl =\n",
              "          document.querySelector('#df-a707a188-e86e-4d98-a303-0f095c561eab button.colab-df-convert');\n",
              "        buttonEl.style.display =\n",
              "          google.colab.kernel.accessAllowed ? 'block' : 'none';\n",
              "\n",
              "        async function convertToInteractive(key) {\n",
              "          const element = document.querySelector('#df-a707a188-e86e-4d98-a303-0f095c561eab');\n",
              "          const dataTable =\n",
              "            await google.colab.kernel.invokeFunction('convertToInteractive',\n",
              "                                                     [key], {});\n",
              "          if (!dataTable) return;\n",
              "\n",
              "          const docLinkHtml = 'Like what you see? Visit the ' +\n",
              "            '<a target=\"_blank\" href=https://colab.research.google.com/notebooks/data_table.ipynb>data table notebook</a>'\n",
              "            + ' to learn more about interactive tables.';\n",
              "          element.innerHTML = '';\n",
              "          dataTable['output_type'] = 'display_data';\n",
              "          await google.colab.output.renderOutput(dataTable, element);\n",
              "          const docLink = document.createElement('div');\n",
              "          docLink.innerHTML = docLinkHtml;\n",
              "          element.appendChild(docLink);\n",
              "        }\n",
              "      </script>\n",
              "    </div>\n",
              "  </div>\n",
              "  "
            ]
          },
          "metadata": {},
          "execution_count": 275
        }
      ]
    },
    {
      "cell_type": "code",
      "source": [
        "fg_pct_compare.plot.bar()"
      ],
      "metadata": {
        "colab": {
          "base_uri": "https://localhost:8080/",
          "height": 312
        },
        "id": "MtKnfXUbpyfF",
        "outputId": "19484f9c-ea95-4a87-f7d1-a15b7d520197"
      },
      "execution_count": 276,
      "outputs": [
        {
          "output_type": "execute_result",
          "data": {
            "text/plain": [
              "<matplotlib.axes._subplots.AxesSubplot at 0x7f2a6521ac90>"
            ]
          },
          "metadata": {},
          "execution_count": 276
        },
        {
          "output_type": "display_data",
          "data": {
            "text/plain": [
              "<Figure size 432x288 with 1 Axes>"
            ],
            "image/png": "[encoded data removed]"
          },
          "metadata": {
            "needs_background": "light"
          }
        }
      ]
    },
    {
      "cell_type": "code",
      "source": [
        "#compare the assists made by home team over the years\n",
        "\n",
        "ast_compare = df_games.groupby('SEASON').agg({'AST_home' : 'mean'})\n",
        "ast_compare"
      ],
      "metadata": {
        "colab": {
          "base_uri": "https://localhost:8080/",
          "height": 677
        },
        "id": "QCnZxs8AqWdc",
        "outputId": "3a32cb1d-34a0-4edb-df4a-39121371a318"
      },
      "execution_count": 277,
      "outputs": [
        {
          "output_type": "execute_result",
          "data": {
            "text/plain": [
              "         AST_home\n",
              "SEASON           \n",
              "2003    22.056765\n",
              "2004    21.928781\n",
              "2005    21.152235\n",
              "2006    22.004933\n",
              "2007    22.496811\n",
              "2008    21.588070\n",
              "2009    21.884831\n",
              "2010    21.976090\n",
              "2011    21.380435\n",
              "2012    22.605634\n",
              "2013    22.339173\n",
              "2014    22.509873\n",
              "2015    22.625706\n",
              "2016    23.288256\n",
              "2017    23.634588\n",
              "2018    24.961538\n",
              "2019    24.710717\n",
              "2020    24.798239\n",
              "2021    24.760223"
            ],
            "text/html": [
              "\n",
              "  <div id=\"df-9fa3c332-580a-43a1-a611-697a595e8112\">\n",
              "    <div class=\"colab-df-container\">\n",
              "      <div>\n",
              "<style scoped>\n",
              "    .dataframe tbody tr th:only-of-type {\n",
              "        vertical-align: middle;\n",
              "    }\n",
              "\n",
              "    .dataframe tbody tr th {\n",
              "        vertical-align: top;\n",
              "    }\n",
              "\n",
              "    .dataframe thead th {\n",
              "        text-align: right;\n",
              "    }\n",
              "</style>\n",
              "<table border=\"1\" class=\"dataframe\">\n",
              "  <thead>\n",
              "    <tr style=\"text-align: right;\">\n",
              "      <th></th>\n",
              "      <th>AST_home</th>\n",
              "    </tr>\n",
              "    <tr>\n",
              "      <th>SEASON</th>\n",
              "      <th></th>\n",
              "    </tr>\n",
              "  </thead>\n",
              "  <tbody>\n",
              "    <tr>\n",
              "      <th>2003</th>\n",
              "      <td>22.056765</td>\n",
              "    </tr>\n",
              "    <tr>\n",
              "      <th>2004</th>\n",
              "      <td>21.928781</td>\n",
              "    </tr>\n",
              "    <tr>\n",
              "      <th>2005</th>\n",
              "      <td>21.152235</td>\n",
              "    </tr>\n",
              "    <tr>\n",
              "      <th>2006</th>\n",
              "      <td>22.004933</td>\n",
              "    </tr>\n",
              "    <tr>\n",
              "      <th>2007</th>\n",
              "      <td>22.496811</td>\n",
              "    </tr>\n",
              "    <tr>\n",
              "      <th>2008</th>\n",
              "      <td>21.588070</td>\n",
              "    </tr>\n",
              "    <tr>\n",
              "      <th>2009</th>\n",
              "      <td>21.884831</td>\n",
              "    </tr>\n",
              "    <tr>\n",
              "      <th>2010</th>\n",
              "      <td>21.976090</td>\n",
              "    </tr>\n",
              "    <tr>\n",
              "      <th>2011</th>\n",
              "      <td>21.380435</td>\n",
              "    </tr>\n",
              "    <tr>\n",
              "      <th>2012</th>\n",
              "      <td>22.605634</td>\n",
              "    </tr>\n",
              "    <tr>\n",
              "      <th>2013</th>\n",
              "      <td>22.339173</td>\n",
              "    </tr>\n",
              "    <tr>\n",
              "      <th>2014</th>\n",
              "      <td>22.509873</td>\n",
              "    </tr>\n",
              "    <tr>\n",
              "      <th>2015</th>\n",
              "      <td>22.625706</td>\n",
              "    </tr>\n",
              "    <tr>\n",
              "      <th>2016</th>\n",
              "      <td>23.288256</td>\n",
              "    </tr>\n",
              "    <tr>\n",
              "      <th>2017</th>\n",
              "      <td>23.634588</td>\n",
              "    </tr>\n",
              "    <tr>\n",
              "      <th>2018</th>\n",
              "      <td>24.961538</td>\n",
              "    </tr>\n",
              "    <tr>\n",
              "      <th>2019</th>\n",
              "      <td>24.710717</td>\n",
              "    </tr>\n",
              "    <tr>\n",
              "      <th>2020</th>\n",
              "      <td>24.798239</td>\n",
              "    </tr>\n",
              "    <tr>\n",
              "      <th>2021</th>\n",
              "      <td>24.760223</td>\n",
              "    </tr>\n",
              "  </tbody>\n",
              "</table>\n",
              "</div>\n",
              "      <button class=\"colab-df-convert\" onclick=\"convertToInteractive('df-9fa3c332-580a-43a1-a611-697a595e8112')\"\n",
              "              title=\"Convert this dataframe to an interactive table.\"\n",
              "              style=\"display:none;\">\n",
              "        \n",
              "  <svg xmlns=\"http://www.w3.org/2000/svg\" height=\"24px\"viewBox=\"0 0 24 24\"\n",
              "       width=\"24px\">\n",
              "    <path d=\"M0 0h24v24H0V0z\" fill=\"none\"/>\n",
              "    <path d=\"M18.56 5.44l.94 2.06.94-2.06 2.06-.94-2.06-.94-.94-2.06-.94 2.06-2.06.94zm-11 1L8.5 8.5l.94-2.06 2.06-.94-2.06-.94L8.5 2.5l-.94 2.06-2.06.94zm10 10l.94 2.06.94-2.06 2.06-.94-2.06-.94-.94-2.06-.94 2.06-2.06.94z\"/><path d=\"M17.41 7.96l-1.37-1.37c-.4-.4-.92-.59-1.43-.59-.52 0-1.04.2-1.43.59L10.3 9.45l-7.72 7.72c-.78.78-.78 2.05 0 2.83L4 21.41c.39.39.9.59 1.41.59.51 0 1.02-.2 1.41-.59l7.78-7.78 2.81-2.81c.8-.78.8-2.07 0-2.86zM5.41 20L4 18.59l7.72-7.72 1.47 1.35L5.41 20z\"/>\n",
              "  </svg>\n",
              "      </button>\n",
              "      \n",
              "  <style>\n",
              "    .colab-df-container {\n",
              "      display:flex;\n",
              "      flex-wrap:wrap;\n",
              "      gap: 12px;\n",
              "    }\n",
              "\n",
              "    .colab-df-convert {\n",
              "      background-color: #E8F0FE;\n",
              "      border: none;\n",
              "      border-radius: 50%;\n",
              "      cursor: pointer;\n",
              "      display: none;\n",
              "      fill: #1967D2;\n",
              "      height: 32px;\n",
              "      padding: 0 0 0 0;\n",
              "      width: 32px;\n",
              "    }\n",
              "\n",
              "    .colab-df-convert:hover {\n",
              "      background-color: #E2EBFA;\n",
              "      box-shadow: 0px 1px 2px rgba(60, 64, 67, 0.3), 0px 1px 3px 1px rgba(60, 64, 67, 0.15);\n",
              "      fill: #174EA6;\n",
              "    }\n",
              "\n",
              "    [theme=dark] .colab-df-convert {\n",
              "      background-color: #3B4455;\n",
              "      fill: #D2E3FC;\n",
              "    }\n",
              "\n",
              "    [theme=dark] .colab-df-convert:hover {\n",
              "      background-color: #434B5C;\n",
              "      box-shadow: 0px 1px 3px 1px rgba(0, 0, 0, 0.15);\n",
              "      filter: drop-shadow(0px 1px 2px rgba(0, 0, 0, 0.3));\n",
              "      fill: #FFFFFF;\n",
              "    }\n",
              "  </style>\n",
              "\n",
              "      <script>\n",
              "        const buttonEl =\n",
              "          document.querySelector('#df-9fa3c332-580a-43a1-a611-697a595e8112 button.colab-df-convert');\n",
              "        buttonEl.style.display =\n",
              "          google.colab.kernel.accessAllowed ? 'block' : 'none';\n",
              "\n",
              "        async function convertToInteractive(key) {\n",
              "          const element = document.querySelector('#df-9fa3c332-580a-43a1-a611-697a595e8112');\n",
              "          const dataTable =\n",
              "            await google.colab.kernel.invokeFunction('convertToInteractive',\n",
              "                                                     [key], {});\n",
              "          if (!dataTable) return;\n",
              "\n",
              "          const docLinkHtml = 'Like what you see? Visit the ' +\n",
              "            '<a target=\"_blank\" href=https://colab.research.google.com/notebooks/data_table.ipynb>data table notebook</a>'\n",
              "            + ' to learn more about interactive tables.';\n",
              "          element.innerHTML = '';\n",
              "          dataTable['output_type'] = 'display_data';\n",
              "          await google.colab.output.renderOutput(dataTable, element);\n",
              "          const docLink = document.createElement('div');\n",
              "          docLink.innerHTML = docLinkHtml;\n",
              "          element.appendChild(docLink);\n",
              "        }\n",
              "      </script>\n",
              "    </div>\n",
              "  </div>\n",
              "  "
            ]
          },
          "metadata": {},
          "execution_count": 277
        }
      ]
    },
    {
      "cell_type": "code",
      "source": [
        "ast_compare.plot.bar()"
      ],
      "metadata": {
        "colab": {
          "base_uri": "https://localhost:8080/",
          "height": 312
        },
        "id": "OwrgVqee2Hyz",
        "outputId": "46a4e482-2bc5-498e-83d7-a78bd38ad207"
      },
      "execution_count": 278,
      "outputs": [
        {
          "output_type": "execute_result",
          "data": {
            "text/plain": [
              "<matplotlib.axes._subplots.AxesSubplot at 0x7f2a63611c50>"
            ]
          },
          "metadata": {},
          "execution_count": 278
        },
        {
          "output_type": "display_data",
          "data": {
            "text/plain": [
              "<Figure size 432x288 with 1 Axes>"
            ],
            "image/png": "[encoded data removed]"
          },
          "metadata": {
            "needs_background": "light"
          }
        }
      ]
    },
    {
      "cell_type": "code",
      "source": [
        "#find how many games were played over the years\n",
        "seasons = df_games.groupby('SEASON')['GAME_ID'].unique() #getting the unique IDs to count how many games were played that year\n",
        "seasons"
      ],
      "metadata": {
        "colab": {
          "base_uri": "https://localhost:8080/"
        },
        "id": "E-1YZpgo3jZr",
        "outputId": "d1cea4bb-17a3-46a1-d53f-d186656e049b"
      },
      "execution_count": 279,
      "outputs": [
        {
          "output_type": "execute_result",
          "data": {
            "text/plain": [
              "SEASON\n",
              "2003    [40300405, 40300404, 40300403, 40300402, 40300...\n",
              "2004    [40400407, 40400406, 40400405, 40400404, 40400...\n",
              "2005    [40500406, 40500405, 40500404, 40500403, 40500...\n",
              "2006    [40600404, 40600403, 40600402, 40600401, 40600...\n",
              "2007    [40700406, 40700405, 40700404, 40700403, 40700...\n",
              "2008    [40800405, 40800404, 40800403, 40800402, 40800...\n",
              "2009    [40900407, 40900406, 40900405, 40900404, 40900...\n",
              "2010    [41000406, 41000405, 41000404, 41000403, 41000...\n",
              "2011    [41100405, 41100404, 41100403, 41100402, 41100...\n",
              "2012    [41200407, 41200406, 41200405, 41200404, 41200...\n",
              "2013    [41300405, 41300404, 41300403, 41300402, 41300...\n",
              "2014    [41400406, 41400405, 41400404, 41400403, 41400...\n",
              "2015    [41500407, 41500406, 41500405, 41500404, 41500...\n",
              "2016    [41600405, 41600404, 41600403, 41600402, 41600...\n",
              "2017    [41700404, 41700403, 41700402, 41700401, 41700...\n",
              "2018    [41800406, 41800405, 41800404, 41800403, 41800...\n",
              "2019    [41900406, 41900405, 41900404, 41900403, 41900...\n",
              "2020    [42000406, 42000405, 42000404, 42000403, 42000...\n",
              "2021    [22101005, 22101006, 22101007, 22101008, 22101...\n",
              "Name: GAME_ID, dtype: object"
            ]
          },
          "metadata": {},
          "execution_count": 279
        }
      ]
    },
    {
      "cell_type": "code",
      "source": [
        "num_of_games = []\n",
        "i = 2003\n",
        "\n",
        "while i < 2022:\n",
        "  num_of_games.append(len(seasons[i]))\n",
        "  i += 1\n",
        "\n",
        "x = seasons.index\n",
        "y = num_of_games\n",
        "plt.plot(x,y, marker = 'o')"
      ],
      "metadata": {
        "colab": {
          "base_uri": "https://localhost:8080/",
          "height": 282
        },
        "id": "6xdngYyKiaD8",
        "outputId": "856297fd-d536-4bf8-a85b-01b38bd5d4e9"
      },
      "execution_count": 280,
      "outputs": [
        {
          "output_type": "execute_result",
          "data": {
            "text/plain": [
              "[<matplotlib.lines.Line2D at 0x7f2a6350cb50>]"
            ]
          },
          "metadata": {},
          "execution_count": 280
        },
        {
          "output_type": "display_data",
          "data": {
            "text/plain": [
              "<Figure size 432x288 with 1 Axes>"
            ],
            "image/png": "[encoded data removed]"
          },
          "metadata": {
            "needs_background": "light"
          }
        }
      ]
    },
    {
      "cell_type": "code",
      "source": [
        "df_games_details.drop(df_games_details.columns.difference(['GAME_ID','PLAYER_ID','PLAYER_NAME','FGA']), 1, inplace=True)\n",
        "\n",
        "df_games_details.head()"
      ],
      "metadata": {
        "colab": {
          "base_uri": "https://localhost:8080/",
          "height": 261
        },
        "id": "w4tXsYOKBP3N",
        "outputId": "528c7f4d-68b4-4d63-db36-444fe1c7f8b1"
      },
      "execution_count": 281,
      "outputs": [
        {
          "output_type": "stream",
          "name": "stderr",
          "text": [
            "/usr/local/lib/python3.7/dist-packages/ipykernel_launcher.py:1: FutureWarning: In a future version of pandas all arguments of DataFrame.drop except for the argument 'labels' will be keyword-only\n",
            "  \"\"\"Entry point for launching an IPython kernel.\n"
          ]
        },
        {
          "output_type": "execute_result",
          "data": {
            "text/plain": [
              "    GAME_ID  PLAYER_ID         PLAYER_NAME   FGA\n",
              "0  22101005    1630162     Anthony Edwards  10.0\n",
              "1  22101005    1630183     Jaden McDaniels   8.0\n",
              "2  22101005    1626157  Karl-Anthony Towns   9.0\n",
              "3  22101005    1627736       Malik Beasley   9.0\n",
              "4  22101005    1626156    D'Angelo Russell  13.0"
            ],
            "text/html": [
              "\n",
              "  <div id=\"df-9c9c7cfb-6ec5-4cf1-9da9-3f7f41eaec89\">\n",
              "    <div class=\"colab-df-container\">\n",
              "      <div>\n",
              "<style scoped>\n",
              "    .dataframe tbody tr th:only-of-type {\n",
              "        vertical-align: middle;\n",
              "    }\n",
              "\n",
              "    .dataframe tbody tr th {\n",
              "        vertical-align: top;\n",
              "    }\n",
              "\n",
              "    .dataframe thead th {\n",
              "        text-align: right;\n",
              "    }\n",
              "</style>\n",
              "<table border=\"1\" class=\"dataframe\">\n",
              "  <thead>\n",
              "    <tr style=\"text-align: right;\">\n",
              "      <th></th>\n",
              "      <th>GAME_ID</th>\n",
              "      <th>PLAYER_ID</th>\n",
              "      <th>PLAYER_NAME</th>\n",
              "      <th>FGA</th>\n",
              "    </tr>\n",
              "  </thead>\n",
              "  <tbody>\n",
              "    <tr>\n",
              "      <th>0</th>\n",
              "      <td>22101005</td>\n",
              "      <td>1630162</td>\n",
              "      <td>Anthony Edwards</td>\n",
              "      <td>10.0</td>\n",
              "    </tr>\n",
              "    <tr>\n",
              "      <th>1</th>\n",
              "      <td>22101005</td>\n",
              "      <td>1630183</td>\n",
              "      <td>Jaden McDaniels</td>\n",
              "      <td>8.0</td>\n",
              "    </tr>\n",
              "    <tr>\n",
              "      <th>2</th>\n",
              "      <td>22101005</td>\n",
              "      <td>1626157</td>\n",
              "      <td>Karl-Anthony Towns</td>\n",
              "      <td>9.0</td>\n",
              "    </tr>\n",
              "    <tr>\n",
              "      <th>3</th>\n",
              "      <td>22101005</td>\n",
              "      <td>1627736</td>\n",
              "      <td>Malik Beasley</td>\n",
              "      <td>9.0</td>\n",
              "    </tr>\n",
              "    <tr>\n",
              "      <th>4</th>\n",
              "      <td>22101005</td>\n",
              "      <td>1626156</td>\n",
              "      <td>D'Angelo Russell</td>\n",
              "      <td>13.0</td>\n",
              "    </tr>\n",
              "  </tbody>\n",
              "</table>\n",
              "</div>\n",
              "      <button class=\"colab-df-convert\" onclick=\"convertToInteractive('df-9c9c7cfb-6ec5-4cf1-9da9-3f7f41eaec89')\"\n",
              "              title=\"Convert this dataframe to an interactive table.\"\n",
              "              style=\"display:none;\">\n",
              "        \n",
              "  <svg xmlns=\"http://www.w3.org/2000/svg\" height=\"24px\"viewBox=\"0 0 24 24\"\n",
              "       width=\"24px\">\n",
              "    <path d=\"M0 0h24v24H0V0z\" fill=\"none\"/>\n",
              "    <path d=\"M18.56 5.44l.94 2.06.94-2.06 2.06-.94-2.06-.94-.94-2.06-.94 2.06-2.06.94zm-11 1L8.5 8.5l.94-2.06 2.06-.94-2.06-.94L8.5 2.5l-.94 2.06-2.06.94zm10 10l.94 2.06.94-2.06 2.06-.94-2.06-.94-.94-2.06-.94 2.06-2.06.94z\"/><path d=\"M17.41 7.96l-1.37-1.37c-.4-.4-.92-.59-1.43-.59-.52 0-1.04.2-1.43.59L10.3 9.45l-7.72 7.72c-.78.78-.78 2.05 0 2.83L4 21.41c.39.39.9.59 1.41.59.51 0 1.02-.2 1.41-.59l7.78-7.78 2.81-2.81c.8-.78.8-2.07 0-2.86zM5.41 20L4 18.59l7.72-7.72 1.47 1.35L5.41 20z\"/>\n",
              "  </svg>\n",
              "      </button>\n",
              "      \n",
              "  <style>\n",
              "    .colab-df-container {\n",
              "      display:flex;\n",
              "      flex-wrap:wrap;\n",
              "      gap: 12px;\n",
              "    }\n",
              "\n",
              "    .colab-df-convert {\n",
              "      background-color: #E8F0FE;\n",
              "      border: none;\n",
              "      border-radius: 50%;\n",
              "      cursor: pointer;\n",
              "      display: none;\n",
              "      fill: #1967D2;\n",
              "      height: 32px;\n",
              "      padding: 0 0 0 0;\n",
              "      width: 32px;\n",
              "    }\n",
              "\n",
              "    .colab-df-convert:hover {\n",
              "      background-color: #E2EBFA;\n",
              "      box-shadow: 0px 1px 2px rgba(60, 64, 67, 0.3), 0px 1px 3px 1px rgba(60, 64, 67, 0.15);\n",
              "      fill: #174EA6;\n",
              "    }\n",
              "\n",
              "    [theme=dark] .colab-df-convert {\n",
              "      background-color: #3B4455;\n",
              "      fill: #D2E3FC;\n",
              "    }\n",
              "\n",
              "    [theme=dark] .colab-df-convert:hover {\n",
              "      background-color: #434B5C;\n",
              "      box-shadow: 0px 1px 3px 1px rgba(0, 0, 0, 0.15);\n",
              "      filter: drop-shadow(0px 1px 2px rgba(0, 0, 0, 0.3));\n",
              "      fill: #FFFFFF;\n",
              "    }\n",
              "  </style>\n",
              "\n",
              "      <script>\n",
              "        const buttonEl =\n",
              "          document.querySelector('#df-9c9c7cfb-6ec5-4cf1-9da9-3f7f41eaec89 button.colab-df-convert');\n",
              "        buttonEl.style.display =\n",
              "          google.colab.kernel.accessAllowed ? 'block' : 'none';\n",
              "\n",
              "        async function convertToInteractive(key) {\n",
              "          const element = document.querySelector('#df-9c9c7cfb-6ec5-4cf1-9da9-3f7f41eaec89');\n",
              "          const dataTable =\n",
              "            await google.colab.kernel.invokeFunction('convertToInteractive',\n",
              "                                                     [key], {});\n",
              "          if (!dataTable) return;\n",
              "\n",
              "          const docLinkHtml = 'Like what you see? Visit the ' +\n",
              "            '<a target=\"_blank\" href=https://colab.research.google.com/notebooks/data_table.ipynb>data table notebook</a>'\n",
              "            + ' to learn more about interactive tables.';\n",
              "          element.innerHTML = '';\n",
              "          dataTable['output_type'] = 'display_data';\n",
              "          await google.colab.output.renderOutput(dataTable, element);\n",
              "          const docLink = document.createElement('div');\n",
              "          docLink.innerHTML = docLinkHtml;\n",
              "          element.appendChild(docLink);\n",
              "        }\n",
              "      </script>\n",
              "    </div>\n",
              "  </div>\n",
              "  "
            ]
          },
          "metadata": {},
          "execution_count": 281
        }
      ]
    },
    {
      "cell_type": "code",
      "source": [
        "df_exp_details = pd.merge(df_games, df_games_details, on=\"GAME_ID\", how=\"outer\")\n",
        "\n",
        "df_exp_details.head()"
      ],
      "metadata": {
        "colab": {
          "base_uri": "https://localhost:8080/",
          "height": 357
        },
        "id": "keYYPh5ZCEOi",
        "outputId": "1b55e3db-1f9a-472c-8e3d-43ad9115f56a"
      },
      "execution_count": 282,
      "outputs": [
        {
          "output_type": "execute_result",
          "data": {
            "text/plain": [
              "    GAME_ID  HOME_TEAM_ID  VISITOR_TEAM_ID  SEASON  PTS_home  FG_PCT_home  \\\n",
              "0  22101005    1610612748       1610612750    2021     104.0        0.398   \n",
              "1  22101005    1610612748       1610612750    2021     104.0        0.398   \n",
              "2  22101005    1610612748       1610612750    2021     104.0        0.398   \n",
              "3  22101005    1610612748       1610612750    2021     104.0        0.398   \n",
              "4  22101005    1610612748       1610612750    2021     104.0        0.398   \n",
              "\n",
              "   FT_PCT_home  FG3_PCT_home  AST_home  REB_home  PTS_away  FG_PCT_away  \\\n",
              "0         0.76         0.333      23.0      53.0     113.0        0.422   \n",
              "1         0.76         0.333      23.0      53.0     113.0        0.422   \n",
              "2         0.76         0.333      23.0      53.0     113.0        0.422   \n",
              "3         0.76         0.333      23.0      53.0     113.0        0.422   \n",
              "4         0.76         0.333      23.0      53.0     113.0        0.422   \n",
              "\n",
              "   FT_PCT_away  FG3_PCT_away  AST_away  REB_away  HOME_TEAM_WINS  PLAYER_ID  \\\n",
              "0        0.875         0.357      21.0      46.0               0  1630162.0   \n",
              "1        0.875         0.357      21.0      46.0               0  1630183.0   \n",
              "2        0.875         0.357      21.0      46.0               0  1626157.0   \n",
              "3        0.875         0.357      21.0      46.0               0  1627736.0   \n",
              "4        0.875         0.357      21.0      46.0               0  1626156.0   \n",
              "\n",
              "          PLAYER_NAME   FGA  \n",
              "0     Anthony Edwards  10.0  \n",
              "1     Jaden McDaniels   8.0  \n",
              "2  Karl-Anthony Towns   9.0  \n",
              "3       Malik Beasley   9.0  \n",
              "4    D'Angelo Russell  13.0  "
            ],
            "text/html": [
              "\n",
              "  <div id=\"df-3e031729-70dd-4a48-8fca-5b6142ad4f90\">\n",
              "    <div class=\"colab-df-container\">\n",
              "      <div>\n",
              "<style scoped>\n",
              "    .dataframe tbody tr th:only-of-type {\n",
              "        vertical-align: middle;\n",
              "    }\n",
              "\n",
              "    .dataframe tbody tr th {\n",
              "        vertical-align: top;\n",
              "    }\n",
              "\n",
              "    .dataframe thead th {\n",
              "        text-align: right;\n",
              "    }\n",
              "</style>\n",
              "<table border=\"1\" class=\"dataframe\">\n",
              "  <thead>\n",
              "    <tr style=\"text-align: right;\">\n",
              "      <th></th>\n",
              "      <th>GAME_ID</th>\n",
              "      <th>HOME_TEAM_ID</th>\n",
              "      <th>VISITOR_TEAM_ID</th>\n",
              "      <th>SEASON</th>\n",
              "      <th>PTS_home</th>\n",
              "      <th>FG_PCT_home</th>\n",
              "      <th>FT_PCT_home</th>\n",
              "      <th>FG3_PCT_home</th>\n",
              "      <th>AST_home</th>\n",
              "      <th>REB_home</th>\n",
              "      <th>PTS_away</th>\n",
              "      <th>FG_PCT_away</th>\n",
              "      <th>FT_PCT_away</th>\n",
              "      <th>FG3_PCT_away</th>\n",
              "      <th>AST_away</th>\n",
              "      <th>REB_away</th>\n",
              "      <th>HOME_TEAM_WINS</th>\n",
              "      <th>PLAYER_ID</th>\n",
              "      <th>PLAYER_NAME</th>\n",
              "      <th>FGA</th>\n",
              "    </tr>\n",
              "  </thead>\n",
              "  <tbody>\n",
              "    <tr>\n",
              "      <th>0</th>\n",
              "      <td>22101005</td>\n",
              "      <td>1610612748</td>\n",
              "      <td>1610612750</td>\n",
              "      <td>2021</td>\n",
              "      <td>104.0</td>\n",
              "      <td>0.398</td>\n",
              "      <td>0.76</td>\n",
              "      <td>0.333</td>\n",
              "      <td>23.0</td>\n",
              "      <td>53.0</td>\n",
              "      <td>113.0</td>\n",
              "      <td>0.422</td>\n",
              "      <td>0.875</td>\n",
              "      <td>0.357</td>\n",
              "      <td>21.0</td>\n",
              "      <td>46.0</td>\n",
              "      <td>0</td>\n",
              "      <td>1630162.0</td>\n",
              "      <td>Anthony Edwards</td>\n",
              "      <td>10.0</td>\n",
              "    </tr>\n",
              "    <tr>\n",
              "      <th>1</th>\n",
              "      <td>22101005</td>\n",
              "      <td>1610612748</td>\n",
              "      <td>1610612750</td>\n",
              "      <td>2021</td>\n",
              "      <td>104.0</td>\n",
              "      <td>0.398</td>\n",
              "      <td>0.76</td>\n",
              "      <td>0.333</td>\n",
              "      <td>23.0</td>\n",
              "      <td>53.0</td>\n",
              "      <td>113.0</td>\n",
              "      <td>0.422</td>\n",
              "      <td>0.875</td>\n",
              "      <td>0.357</td>\n",
              "      <td>21.0</td>\n",
              "      <td>46.0</td>\n",
              "      <td>0</td>\n",
              "      <td>1630183.0</td>\n",
              "      <td>Jaden McDaniels</td>\n",
              "      <td>8.0</td>\n",
              "    </tr>\n",
              "    <tr>\n",
              "      <th>2</th>\n",
              "      <td>22101005</td>\n",
              "      <td>1610612748</td>\n",
              "      <td>1610612750</td>\n",
              "      <td>2021</td>\n",
              "      <td>104.0</td>\n",
              "      <td>0.398</td>\n",
              "      <td>0.76</td>\n",
              "      <td>0.333</td>\n",
              "      <td>23.0</td>\n",
              "      <td>53.0</td>\n",
              "      <td>113.0</td>\n",
              "      <td>0.422</td>\n",
              "      <td>0.875</td>\n",
              "      <td>0.357</td>\n",
              "      <td>21.0</td>\n",
              "      <td>46.0</td>\n",
              "      <td>0</td>\n",
              "      <td>1626157.0</td>\n",
              "      <td>Karl-Anthony Towns</td>\n",
              "      <td>9.0</td>\n",
              "    </tr>\n",
              "    <tr>\n",
              "      <th>3</th>\n",
              "      <td>22101005</td>\n",
              "      <td>1610612748</td>\n",
              "      <td>1610612750</td>\n",
              "      <td>2021</td>\n",
              "      <td>104.0</td>\n",
              "      <td>0.398</td>\n",
              "      <td>0.76</td>\n",
              "      <td>0.333</td>\n",
              "      <td>23.0</td>\n",
              "      <td>53.0</td>\n",
              "      <td>113.0</td>\n",
              "      <td>0.422</td>\n",
              "      <td>0.875</td>\n",
              "      <td>0.357</td>\n",
              "      <td>21.0</td>\n",
              "      <td>46.0</td>\n",
              "      <td>0</td>\n",
              "      <td>1627736.0</td>\n",
              "      <td>Malik Beasley</td>\n",
              "      <td>9.0</td>\n",
              "    </tr>\n",
              "    <tr>\n",
              "      <th>4</th>\n",
              "      <td>22101005</td>\n",
              "      <td>1610612748</td>\n",
              "      <td>1610612750</td>\n",
              "      <td>2021</td>\n",
              "      <td>104.0</td>\n",
              "      <td>0.398</td>\n",
              "      <td>0.76</td>\n",
              "      <td>0.333</td>\n",
              "      <td>23.0</td>\n",
              "      <td>53.0</td>\n",
              "      <td>113.0</td>\n",
              "      <td>0.422</td>\n",
              "      <td>0.875</td>\n",
              "      <td>0.357</td>\n",
              "      <td>21.0</td>\n",
              "      <td>46.0</td>\n",
              "      <td>0</td>\n",
              "      <td>1626156.0</td>\n",
              "      <td>D'Angelo Russell</td>\n",
              "      <td>13.0</td>\n",
              "    </tr>\n",
              "  </tbody>\n",
              "</table>\n",
              "</div>\n",
              "      <button class=\"colab-df-convert\" onclick=\"convertToInteractive('df-3e031729-70dd-4a48-8fca-5b6142ad4f90')\"\n",
              "              title=\"Convert this dataframe to an interactive table.\"\n",
              "              style=\"display:none;\">\n",
              "        \n",
              "  <svg xmlns=\"http://www.w3.org/2000/svg\" height=\"24px\"viewBox=\"0 0 24 24\"\n",
              "       width=\"24px\">\n",
              "    <path d=\"M0 0h24v24H0V0z\" fill=\"none\"/>\n",
              "    <path d=\"M18.56 5.44l.94 2.06.94-2.06 2.06-.94-2.06-.94-.94-2.06-.94 2.06-2.06.94zm-11 1L8.5 8.5l.94-2.06 2.06-.94-2.06-.94L8.5 2.5l-.94 2.06-2.06.94zm10 10l.94 2.06.94-2.06 2.06-.94-2.06-.94-.94-2.06-.94 2.06-2.06.94z\"/><path d=\"M17.41 7.96l-1.37-1.37c-.4-.4-.92-.59-1.43-.59-.52 0-1.04.2-1.43.59L10.3 9.45l-7.72 7.72c-.78.78-.78 2.05 0 2.83L4 21.41c.39.39.9.59 1.41.59.51 0 1.02-.2 1.41-.59l7.78-7.78 2.81-2.81c.8-.78.8-2.07 0-2.86zM5.41 20L4 18.59l7.72-7.72 1.47 1.35L5.41 20z\"/>\n",
              "  </svg>\n",
              "      </button>\n",
              "      \n",
              "  <style>\n",
              "    .colab-df-container {\n",
              "      display:flex;\n",
              "      flex-wrap:wrap;\n",
              "      gap: 12px;\n",
              "    }\n",
              "\n",
              "    .colab-df-convert {\n",
              "      background-color: #E8F0FE;\n",
              "      border: none;\n",
              "      border-radius: 50%;\n",
              "      cursor: pointer;\n",
              "      display: none;\n",
              "      fill: #1967D2;\n",
              "      height: 32px;\n",
              "      padding: 0 0 0 0;\n",
              "      width: 32px;\n",
              "    }\n",
              "\n",
              "    .colab-df-convert:hover {\n",
              "      background-color: #E2EBFA;\n",
              "      box-shadow: 0px 1px 2px rgba(60, 64, 67, 0.3), 0px 1px 3px 1px rgba(60, 64, 67, 0.15);\n",
              "      fill: #174EA6;\n",
              "    }\n",
              "\n",
              "    [theme=dark] .colab-df-convert {\n",
              "      background-color: #3B4455;\n",
              "      fill: #D2E3FC;\n",
              "    }\n",
              "\n",
              "    [theme=dark] .colab-df-convert:hover {\n",
              "      background-color: #434B5C;\n",
              "      box-shadow: 0px 1px 3px 1px rgba(0, 0, 0, 0.15);\n",
              "      filter: drop-shadow(0px 1px 2px rgba(0, 0, 0, 0.3));\n",
              "      fill: #FFFFFF;\n",
              "    }\n",
              "  </style>\n",
              "\n",
              "      <script>\n",
              "        const buttonEl =\n",
              "          document.querySelector('#df-3e031729-70dd-4a48-8fca-5b6142ad4f90 button.colab-df-convert');\n",
              "        buttonEl.style.display =\n",
              "          google.colab.kernel.accessAllowed ? 'block' : 'none';\n",
              "\n",
              "        async function convertToInteractive(key) {\n",
              "          const element = document.querySelector('#df-3e031729-70dd-4a48-8fca-5b6142ad4f90');\n",
              "          const dataTable =\n",
              "            await google.colab.kernel.invokeFunction('convertToInteractive',\n",
              "                                                     [key], {});\n",
              "          if (!dataTable) return;\n",
              "\n",
              "          const docLinkHtml = 'Like what you see? Visit the ' +\n",
              "            '<a target=\"_blank\" href=https://colab.research.google.com/notebooks/data_table.ipynb>data table notebook</a>'\n",
              "            + ' to learn more about interactive tables.';\n",
              "          element.innerHTML = '';\n",
              "          dataTable['output_type'] = 'display_data';\n",
              "          await google.colab.output.renderOutput(dataTable, element);\n",
              "          const docLink = document.createElement('div');\n",
              "          docLink.innerHTML = docLinkHtml;\n",
              "          element.appendChild(docLink);\n",
              "        }\n",
              "      </script>\n",
              "    </div>\n",
              "  </div>\n",
              "  "
            ]
          },
          "metadata": {},
          "execution_count": 282
        }
      ]
    },
    {
      "cell_type": "code",
      "source": [
        "player_fga = df_exp_details.groupby('PLAYER_NAME')['FGA'].value_counts()\n",
        "player_fga\n"
      ],
      "metadata": {
        "colab": {
          "base_uri": "https://localhost:8080/"
        },
        "id": "R_v6A3xBC3SX",
        "outputId": "daac6955-d7fe-4965-9c60-18c6a7e10de5"
      },
      "execution_count": 283,
      "outputs": [
        {
          "output_type": "execute_result",
          "data": {
            "text/plain": [
              "PLAYER_NAME     FGA\n",
              "A.J. Guyton     4.0    1\n",
              "A.J. Lawson     3.0    1\n",
              "AJ Hammons      0.0    8\n",
              "                1.0    5\n",
              "                2.0    5\n",
              "                      ..\n",
              "Zylan Cheatham  1.0    2\n",
              "                3.0    2\n",
              "                2.0    1\n",
              "                4.0    1\n",
              "                7.0    1\n",
              "Name: FGA, Length: 31021, dtype: int64"
            ]
          },
          "metadata": {},
          "execution_count": 283
        }
      ]
    },
    {
      "cell_type": "code",
      "source": [
        "df_exp_details['FGA'].mean()"
      ],
      "metadata": {
        "colab": {
          "base_uri": "https://localhost:8080/"
        },
        "id": "585SKNGBDTWl",
        "outputId": "4af07eaa-cc21-442a-bab8-5f2da0936476"
      },
      "execution_count": 223,
      "outputs": [
        {
          "output_type": "execute_result",
          "data": {
            "text/plain": [
              "7.892017963739859"
            ]
          },
          "metadata": {},
          "execution_count": 223
        }
      ]
    },
    {
      "cell_type": "code",
      "source": [
        "suc_players = df_exp_details[(df_exp_details['FGA'] > 8)].groupby('PLAYER_NAME')['FGA'].sum()\n",
        "suc_players"
      ],
      "metadata": {
        "colab": {
          "base_uri": "https://localhost:8080/"
        },
        "id": "aUJm0d-AIeil",
        "outputId": "b45b4ac5-77db-4b2e-e51a-529b4c2a694c"
      },
      "execution_count": 284,
      "outputs": [
        {
          "output_type": "execute_result",
          "data": {
            "text/plain": [
              "PLAYER_NAME\n",
              "AJ Price               621.0\n",
              "Aaron Brooks          4229.0\n",
              "Aaron Gordon          5094.0\n",
              "Aaron Gray              93.0\n",
              "Aaron Harrison          28.0\n",
              "                       ...  \n",
              "Ziaire Williams        167.0\n",
              "Zion Williamson       1521.0\n",
              "Zoran Dragic            17.0\n",
              "Zoran Planinic         112.0\n",
              "Zydrunas Ilgauskas    5379.0\n",
              "Name: FGA, Length: 1656, dtype: float64"
            ]
          },
          "metadata": {},
          "execution_count": 284
        }
      ]
    },
    {
      "cell_type": "code",
      "source": [
        "\n",
        "print(f'The most field goals made by {suc_players.idxmax()} and the number of goals he made it till now is {suc_players.max():.0f}.')\n"
      ],
      "metadata": {
        "colab": {
          "base_uri": "https://localhost:8080/"
        },
        "id": "RIOWp1xZDaAd",
        "outputId": "99bbe653-6327-4f0e-8bef-dfd32f4eecd9"
      },
      "execution_count": 285,
      "outputs": [
        {
          "output_type": "stream",
          "name": "stdout",
          "text": [
            "The most field goals made by LeBron James and the number of goals he made it till now is 32854. \n"
          ]
        }
      ]
    }
  ]
}